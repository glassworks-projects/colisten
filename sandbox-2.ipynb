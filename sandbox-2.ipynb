{
 "cells": [
  {
   "cell_type": "code",
   "execution_count": 3,
   "id": "b97e4aa2",
   "metadata": {},
   "outputs": [],
   "source": [
    "import pandas as pd\n",
    "import numpy as np"
   ]
  },
  {
   "cell_type": "code",
   "execution_count": 4,
   "id": "f0815bcf",
   "metadata": {},
   "outputs": [],
   "source": [
    "data = pd.read_csv(\"edges.csv\").sort_values('artist_a')"
   ]
  },
  {
   "cell_type": "code",
   "execution_count": 5,
   "id": "8808df4f",
   "metadata": {},
   "outputs": [],
   "source": [
    "all_artist_ids = np.unique(np.concatenate((data['artist_a'].unique(), data['artist_b'].unique()), axis=None))"
   ]
  },
  {
   "cell_type": "code",
   "execution_count": 6,
   "id": "8f3c3d71",
   "metadata": {},
   "outputs": [],
   "source": [
    "collab_matrix = np.zeros((len(all_artist_ids), len(all_artist_ids)))"
   ]
  },
  {
   "cell_type": "code",
   "execution_count": 7,
   "id": "fec4cdb1",
   "metadata": {
    "scrolled": true
   },
   "outputs": [],
   "source": [
    "idx_dt = {el : idx for idx, el in enumerate(all_artist_ids)}"
   ]
  },
  {
   "cell_type": "code",
   "execution_count": 8,
   "id": "ffd0c255",
   "metadata": {},
   "outputs": [],
   "source": [
    "edgelist = data[['artist_a', 'artist_b']].astype('int32')"
   ]
  },
  {
   "cell_type": "code",
   "execution_count": 9,
   "id": "d3031a0d",
   "metadata": {},
   "outputs": [],
   "source": [
    "def increment_weight(row) :\n",
    "    i = idx_dt[row['artist_a']]\n",
    "    j = idx_dt[row['artist_b']]\n",
    "    collab_matrix[i,j] += 1\n",
    "    collab_matrix[j,i] += 1"
   ]
  },
  {
   "cell_type": "code",
   "execution_count": 10,
   "id": "f3ce4727",
   "metadata": {},
   "outputs": [
    {
     "data": {
      "text/plain": [
       "119474     None\n",
       "973732     None\n",
       "973729     None\n",
       "973725     None\n",
       "973720     None\n",
       "           ... \n",
       "1294405    None\n",
       "1585089    None\n",
       "1556605    None\n",
       "1656788    None\n",
       "1656789    None\n",
       "Length: 1656791, dtype: object"
      ]
     },
     "execution_count": 10,
     "metadata": {},
     "output_type": "execute_result"
    }
   ],
   "source": [
    "edgelist.apply(increment_weight, axis=1)"
   ]
  },
  {
   "cell_type": "code",
   "execution_count": 11,
   "id": "1da5513c",
   "metadata": {
    "scrolled": false
   },
   "outputs": [
    {
     "data": {
      "text/plain": [
       "array([[0., 0., 0., ..., 0., 0., 0.],\n",
       "       [0., 0., 0., ..., 0., 0., 0.],\n",
       "       [0., 0., 0., ..., 0., 0., 0.],\n",
       "       ...,\n",
       "       [0., 0., 0., ..., 0., 0., 0.],\n",
       "       [0., 0., 0., ..., 0., 0., 0.],\n",
       "       [0., 0., 0., ..., 0., 0., 0.]])"
      ]
     },
     "execution_count": 11,
     "metadata": {},
     "output_type": "execute_result"
    }
   ],
   "source": [
    "collab_matrix"
   ]
  },
  {
   "cell_type": "code",
   "execution_count": 13,
   "id": "4ed6d984",
   "metadata": {},
   "outputs": [
    {
     "data": {
      "text/plain": [
       "5.0"
      ]
     },
     "execution_count": 13,
     "metadata": {},
     "output_type": "execute_result"
    }
   ],
   "source": [
    "collab_matrix[idx_dt[674], idx_dt[1]]"
   ]
  },
  {
   "cell_type": "code",
   "execution_count": null,
   "id": "f2a81572",
   "metadata": {},
   "outputs": [],
   "source": []
  }
 ],
 "metadata": {
  "kernelspec": {
   "display_name": "Python 3 (ipykernel)",
   "language": "python",
   "name": "python3"
  },
  "language_info": {
   "codemirror_mode": {
    "name": "ipython",
    "version": 3
   },
   "file_extension": ".py",
   "mimetype": "text/x-python",
   "name": "python",
   "nbconvert_exporter": "python",
   "pygments_lexer": "ipython3",
   "version": "3.9.15"
  }
 },
 "nbformat": 4,
 "nbformat_minor": 5
}
