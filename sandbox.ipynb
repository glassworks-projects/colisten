{
 "cells": [
  {
   "cell_type": "code",
   "execution_count": 16,
   "id": "b97e4aa2",
   "metadata": {},
   "outputs": [],
   "source": [
    "import pandas as pd\n",
    "import numpy as np"
   ]
  },
  {
   "cell_type": "code",
   "execution_count": 4,
   "id": "f0815bcf",
   "metadata": {},
   "outputs": [],
   "source": [
    "data = pd.read_csv(\"edges.csv\").sort_values('artist_a')"
   ]
  },
  {
   "cell_type": "code",
   "execution_count": 5,
   "id": "9524f05e",
   "metadata": {
    "scrolled": true
   },
   "outputs": [
    {
     "data": {
      "text/plain": [
       "69108"
      ]
     },
     "execution_count": 5,
     "metadata": {},
     "output_type": "execute_result"
    }
   ],
   "source": [
    "len(data['artist_a'].unique())"
   ]
  },
  {
   "cell_type": "code",
   "execution_count": 6,
   "id": "21620c95",
   "metadata": {},
   "outputs": [
    {
     "data": {
      "text/html": [
       "<div>\n",
       "<style scoped>\n",
       "    .dataframe tbody tr th:only-of-type {\n",
       "        vertical-align: middle;\n",
       "    }\n",
       "\n",
       "    .dataframe tbody tr th {\n",
       "        vertical-align: top;\n",
       "    }\n",
       "\n",
       "    .dataframe thead th {\n",
       "        text-align: right;\n",
       "    }\n",
       "</style>\n",
       "<table border=\"1\" class=\"dataframe\">\n",
       "  <thead>\n",
       "    <tr style=\"text-align: right;\">\n",
       "      <th></th>\n",
       "      <th>release_id</th>\n",
       "      <th>year</th>\n",
       "      <th>artist_a</th>\n",
       "      <th>artist_b</th>\n",
       "    </tr>\n",
       "  </thead>\n",
       "  <tbody>\n",
       "    <tr>\n",
       "      <th>119474</th>\n",
       "      <td>399</td>\n",
       "      <td>1998</td>\n",
       "      <td>1</td>\n",
       "      <td>674</td>\n",
       "    </tr>\n",
       "    <tr>\n",
       "      <th>973732</th>\n",
       "      <td>2387641</td>\n",
       "      <td>1999</td>\n",
       "      <td>1</td>\n",
       "      <td>12458</td>\n",
       "    </tr>\n",
       "    <tr>\n",
       "      <th>973729</th>\n",
       "      <td>2387641</td>\n",
       "      <td>1999</td>\n",
       "      <td>1</td>\n",
       "      <td>24023</td>\n",
       "    </tr>\n",
       "    <tr>\n",
       "      <th>973725</th>\n",
       "      <td>2387641</td>\n",
       "      <td>1999</td>\n",
       "      <td>1</td>\n",
       "      <td>1716</td>\n",
       "    </tr>\n",
       "    <tr>\n",
       "      <th>973720</th>\n",
       "      <td>2387641</td>\n",
       "      <td>1999</td>\n",
       "      <td>1</td>\n",
       "      <td>17870</td>\n",
       "    </tr>\n",
       "    <tr>\n",
       "      <th>...</th>\n",
       "      <td>...</td>\n",
       "      <td>...</td>\n",
       "      <td>...</td>\n",
       "      <td>...</td>\n",
       "    </tr>\n",
       "    <tr>\n",
       "      <th>1294405</th>\n",
       "      <td>6878646</td>\n",
       "      <td>1989</td>\n",
       "      <td>7753982</td>\n",
       "      <td>7753983</td>\n",
       "    </tr>\n",
       "    <tr>\n",
       "      <th>1585089</th>\n",
       "      <td>15007242</td>\n",
       "      <td>1996</td>\n",
       "      <td>7756428</td>\n",
       "      <td>7756429</td>\n",
       "    </tr>\n",
       "    <tr>\n",
       "      <th>1556605</th>\n",
       "      <td>12636144</td>\n",
       "      <td>1993</td>\n",
       "      <td>7758826</td>\n",
       "      <td>7758827</td>\n",
       "    </tr>\n",
       "    <tr>\n",
       "      <th>1656788</th>\n",
       "      <td>15027416</td>\n",
       "      <td>1999</td>\n",
       "      <td>7765143</td>\n",
       "      <td>7765144</td>\n",
       "    </tr>\n",
       "    <tr>\n",
       "      <th>1656789</th>\n",
       "      <td>15027451</td>\n",
       "      <td>1999</td>\n",
       "      <td>7765143</td>\n",
       "      <td>7765144</td>\n",
       "    </tr>\n",
       "  </tbody>\n",
       "</table>\n",
       "<p>1656791 rows × 4 columns</p>\n",
       "</div>"
      ],
      "text/plain": [
       "         release_id  year  artist_a  artist_b\n",
       "119474          399  1998         1       674\n",
       "973732      2387641  1999         1     12458\n",
       "973729      2387641  1999         1     24023\n",
       "973725      2387641  1999         1      1716\n",
       "973720      2387641  1999         1     17870\n",
       "...             ...   ...       ...       ...\n",
       "1294405     6878646  1989   7753982   7753983\n",
       "1585089    15007242  1996   7756428   7756429\n",
       "1556605    12636144  1993   7758826   7758827\n",
       "1656788    15027416  1999   7765143   7765144\n",
       "1656789    15027451  1999   7765143   7765144\n",
       "\n",
       "[1656791 rows x 4 columns]"
      ]
     },
     "execution_count": 6,
     "metadata": {},
     "output_type": "execute_result"
    }
   ],
   "source": [
    "data"
   ]
  },
  {
   "cell_type": "code",
   "execution_count": 48,
   "id": "cda0fe93",
   "metadata": {
    "scrolled": true
   },
   "outputs": [
    {
     "data": {
      "text/plain": [
       "True"
      ]
     },
     "execution_count": 48,
     "metadata": {},
     "output_type": "execute_result"
    }
   ],
   "source": [
    "1 in data['artist_b']"
   ]
  },
  {
   "cell_type": "code",
   "execution_count": null,
   "id": "a55626c8",
   "metadata": {},
   "outputs": [],
   "source": [
    "\"\"\"\n",
    "we need an artist to artist similarity matrix\n",
    "for each artist, similarity score for each other artist\n",
    "\n",
    "calculating similiarity: just number of collabs? then we can normalize? if we want?\n",
    "\"\"\""
   ]
  },
  {
   "cell_type": "code",
   "execution_count": 7,
   "id": "56a35dee",
   "metadata": {},
   "outputs": [],
   "source": [
    "artist_slice = data[data['artist_a'] == 1]"
   ]
  },
  {
   "cell_type": "code",
   "execution_count": 8,
   "id": "292cdd1a",
   "metadata": {
    "scrolled": true
   },
   "outputs": [
    {
     "data": {
      "text/html": [
       "<div>\n",
       "<style scoped>\n",
       "    .dataframe tbody tr th:only-of-type {\n",
       "        vertical-align: middle;\n",
       "    }\n",
       "\n",
       "    .dataframe tbody tr th {\n",
       "        vertical-align: top;\n",
       "    }\n",
       "\n",
       "    .dataframe thead th {\n",
       "        text-align: right;\n",
       "    }\n",
       "</style>\n",
       "<table border=\"1\" class=\"dataframe\">\n",
       "  <thead>\n",
       "    <tr style=\"text-align: right;\">\n",
       "      <th></th>\n",
       "      <th>release_id</th>\n",
       "      <th>year</th>\n",
       "      <th>artist_a</th>\n",
       "      <th>artist_b</th>\n",
       "    </tr>\n",
       "  </thead>\n",
       "  <tbody>\n",
       "    <tr>\n",
       "      <th>119474</th>\n",
       "      <td>399</td>\n",
       "      <td>1998</td>\n",
       "      <td>1</td>\n",
       "      <td>674</td>\n",
       "    </tr>\n",
       "    <tr>\n",
       "      <th>973732</th>\n",
       "      <td>2387641</td>\n",
       "      <td>1999</td>\n",
       "      <td>1</td>\n",
       "      <td>12458</td>\n",
       "    </tr>\n",
       "    <tr>\n",
       "      <th>973729</th>\n",
       "      <td>2387641</td>\n",
       "      <td>1999</td>\n",
       "      <td>1</td>\n",
       "      <td>24023</td>\n",
       "    </tr>\n",
       "    <tr>\n",
       "      <th>973725</th>\n",
       "      <td>2387641</td>\n",
       "      <td>1999</td>\n",
       "      <td>1</td>\n",
       "      <td>1716</td>\n",
       "    </tr>\n",
       "    <tr>\n",
       "      <th>973720</th>\n",
       "      <td>2387641</td>\n",
       "      <td>1999</td>\n",
       "      <td>1</td>\n",
       "      <td>17870</td>\n",
       "    </tr>\n",
       "    <tr>\n",
       "      <th>973714</th>\n",
       "      <td>2387641</td>\n",
       "      <td>1999</td>\n",
       "      <td>1</td>\n",
       "      <td>49470</td>\n",
       "    </tr>\n",
       "    <tr>\n",
       "      <th>183018</th>\n",
       "      <td>62584</td>\n",
       "      <td>1997</td>\n",
       "      <td>1</td>\n",
       "      <td>89</td>\n",
       "    </tr>\n",
       "    <tr>\n",
       "      <th>215682</th>\n",
       "      <td>100650</td>\n",
       "      <td>1998</td>\n",
       "      <td>1</td>\n",
       "      <td>674</td>\n",
       "    </tr>\n",
       "    <tr>\n",
       "      <th>215676</th>\n",
       "      <td>100650</td>\n",
       "      <td>1998</td>\n",
       "      <td>1</td>\n",
       "      <td>83</td>\n",
       "    </tr>\n",
       "    <tr>\n",
       "      <th>215669</th>\n",
       "      <td>100650</td>\n",
       "      <td>1998</td>\n",
       "      <td>1</td>\n",
       "      <td>8602</td>\n",
       "    </tr>\n",
       "    <tr>\n",
       "      <th>171575</th>\n",
       "      <td>49823</td>\n",
       "      <td>1999</td>\n",
       "      <td>1</td>\n",
       "      <td>107031</td>\n",
       "    </tr>\n",
       "    <tr>\n",
       "      <th>801532</th>\n",
       "      <td>1795441</td>\n",
       "      <td>1998</td>\n",
       "      <td>1</td>\n",
       "      <td>1373</td>\n",
       "    </tr>\n",
       "    <tr>\n",
       "      <th>973707</th>\n",
       "      <td>2387641</td>\n",
       "      <td>1999</td>\n",
       "      <td>1</td>\n",
       "      <td>77</td>\n",
       "    </tr>\n",
       "    <tr>\n",
       "      <th>171497</th>\n",
       "      <td>49823</td>\n",
       "      <td>1999</td>\n",
       "      <td>1</td>\n",
       "      <td>1656</td>\n",
       "    </tr>\n",
       "    <tr>\n",
       "      <th>171511</th>\n",
       "      <td>49823</td>\n",
       "      <td>1999</td>\n",
       "      <td>1</td>\n",
       "      <td>2889</td>\n",
       "    </tr>\n",
       "    <tr>\n",
       "      <th>171574</th>\n",
       "      <td>49823</td>\n",
       "      <td>1999</td>\n",
       "      <td>1</td>\n",
       "      <td>20080</td>\n",
       "    </tr>\n",
       "    <tr>\n",
       "      <th>171573</th>\n",
       "      <td>49823</td>\n",
       "      <td>1999</td>\n",
       "      <td>1</td>\n",
       "      <td>40039</td>\n",
       "    </tr>\n",
       "    <tr>\n",
       "      <th>973699</th>\n",
       "      <td>2387641</td>\n",
       "      <td>1999</td>\n",
       "      <td>1</td>\n",
       "      <td>9169</td>\n",
       "    </tr>\n",
       "    <tr>\n",
       "      <th>171524</th>\n",
       "      <td>49823</td>\n",
       "      <td>1999</td>\n",
       "      <td>1</td>\n",
       "      <td>4594</td>\n",
       "    </tr>\n",
       "    <tr>\n",
       "      <th>171572</th>\n",
       "      <td>49823</td>\n",
       "      <td>1999</td>\n",
       "      <td>1</td>\n",
       "      <td>40038</td>\n",
       "    </tr>\n",
       "    <tr>\n",
       "      <th>171571</th>\n",
       "      <td>49823</td>\n",
       "      <td>1999</td>\n",
       "      <td>1</td>\n",
       "      <td>1068</td>\n",
       "    </tr>\n",
       "    <tr>\n",
       "      <th>171570</th>\n",
       "      <td>49823</td>\n",
       "      <td>1999</td>\n",
       "      <td>1</td>\n",
       "      <td>60320</td>\n",
       "    </tr>\n",
       "    <tr>\n",
       "      <th>10600</th>\n",
       "      <td>1167790</td>\n",
       "      <td>1998</td>\n",
       "      <td>1</td>\n",
       "      <td>674</td>\n",
       "    </tr>\n",
       "    <tr>\n",
       "      <th>171569</th>\n",
       "      <td>49823</td>\n",
       "      <td>1999</td>\n",
       "      <td>1</td>\n",
       "      <td>25820</td>\n",
       "    </tr>\n",
       "    <tr>\n",
       "      <th>171568</th>\n",
       "      <td>49823</td>\n",
       "      <td>1999</td>\n",
       "      <td>1</td>\n",
       "      <td>3361</td>\n",
       "    </tr>\n",
       "    <tr>\n",
       "      <th>171567</th>\n",
       "      <td>49823</td>\n",
       "      <td>1999</td>\n",
       "      <td>1</td>\n",
       "      <td>23215</td>\n",
       "    </tr>\n",
       "    <tr>\n",
       "      <th>171557</th>\n",
       "      <td>49823</td>\n",
       "      <td>1999</td>\n",
       "      <td>1</td>\n",
       "      <td>1509</td>\n",
       "    </tr>\n",
       "    <tr>\n",
       "      <th>171547</th>\n",
       "      <td>49823</td>\n",
       "      <td>1999</td>\n",
       "      <td>1</td>\n",
       "      <td>1552</td>\n",
       "    </tr>\n",
       "    <tr>\n",
       "      <th>171536</th>\n",
       "      <td>49823</td>\n",
       "      <td>1999</td>\n",
       "      <td>1</td>\n",
       "      <td>231513</td>\n",
       "    </tr>\n",
       "    <tr>\n",
       "      <th>801518</th>\n",
       "      <td>1795441</td>\n",
       "      <td>1998</td>\n",
       "      <td>1</td>\n",
       "      <td>35</td>\n",
       "    </tr>\n",
       "    <tr>\n",
       "      <th>973734</th>\n",
       "      <td>2387641</td>\n",
       "      <td>1999</td>\n",
       "      <td>1</td>\n",
       "      <td>328</td>\n",
       "    </tr>\n",
       "    <tr>\n",
       "      <th>973735</th>\n",
       "      <td>2387641</td>\n",
       "      <td>1999</td>\n",
       "      <td>1</td>\n",
       "      <td>101269</td>\n",
       "    </tr>\n",
       "    <tr>\n",
       "      <th>801503</th>\n",
       "      <td>1795441</td>\n",
       "      <td>1998</td>\n",
       "      <td>1</td>\n",
       "      <td>793362</td>\n",
       "    </tr>\n",
       "    <tr>\n",
       "      <th>139739</th>\n",
       "      <td>20209</td>\n",
       "      <td>1997</td>\n",
       "      <td>1</td>\n",
       "      <td>674</td>\n",
       "    </tr>\n",
       "    <tr>\n",
       "      <th>801568</th>\n",
       "      <td>1795441</td>\n",
       "      <td>1998</td>\n",
       "      <td>1</td>\n",
       "      <td>674</td>\n",
       "    </tr>\n",
       "    <tr>\n",
       "      <th>801580</th>\n",
       "      <td>1795441</td>\n",
       "      <td>1998</td>\n",
       "      <td>1</td>\n",
       "      <td>11069</td>\n",
       "    </tr>\n",
       "    <tr>\n",
       "      <th>215692</th>\n",
       "      <td>100650</td>\n",
       "      <td>1998</td>\n",
       "      <td>1</td>\n",
       "      <td>28902</td>\n",
       "    </tr>\n",
       "    <tr>\n",
       "      <th>801557</th>\n",
       "      <td>1795441</td>\n",
       "      <td>1998</td>\n",
       "      <td>1</td>\n",
       "      <td>817</td>\n",
       "    </tr>\n",
       "    <tr>\n",
       "      <th>801545</th>\n",
       "      <td>1795441</td>\n",
       "      <td>1998</td>\n",
       "      <td>1</td>\n",
       "      <td>31</td>\n",
       "    </tr>\n",
       "    <tr>\n",
       "      <th>801581</th>\n",
       "      <td>1795441</td>\n",
       "      <td>1998</td>\n",
       "      <td>1</td>\n",
       "      <td>816</td>\n",
       "    </tr>\n",
       "    <tr>\n",
       "      <th>119479</th>\n",
       "      <td>399</td>\n",
       "      <td>1998</td>\n",
       "      <td>1</td>\n",
       "      <td>675</td>\n",
       "    </tr>\n",
       "    <tr>\n",
       "      <th>801582</th>\n",
       "      <td>1795441</td>\n",
       "      <td>1998</td>\n",
       "      <td>1</td>\n",
       "      <td>3592</td>\n",
       "    </tr>\n",
       "    <tr>\n",
       "      <th>215688</th>\n",
       "      <td>100650</td>\n",
       "      <td>1998</td>\n",
       "      <td>1</td>\n",
       "      <td>263</td>\n",
       "    </tr>\n",
       "    <tr>\n",
       "      <th>215689</th>\n",
       "      <td>100650</td>\n",
       "      <td>1998</td>\n",
       "      <td>1</td>\n",
       "      <td>59</td>\n",
       "    </tr>\n",
       "    <tr>\n",
       "      <th>119480</th>\n",
       "      <td>399</td>\n",
       "      <td>1998</td>\n",
       "      <td>1</td>\n",
       "      <td>676</td>\n",
       "    </tr>\n",
       "    <tr>\n",
       "      <th>215690</th>\n",
       "      <td>100650</td>\n",
       "      <td>1998</td>\n",
       "      <td>1</td>\n",
       "      <td>25419</td>\n",
       "    </tr>\n",
       "    <tr>\n",
       "      <th>801583</th>\n",
       "      <td>1795441</td>\n",
       "      <td>1998</td>\n",
       "      <td>1</td>\n",
       "      <td>20662</td>\n",
       "    </tr>\n",
       "    <tr>\n",
       "      <th>801584</th>\n",
       "      <td>1795441</td>\n",
       "      <td>1998</td>\n",
       "      <td>1</td>\n",
       "      <td>174</td>\n",
       "    </tr>\n",
       "    <tr>\n",
       "      <th>215691</th>\n",
       "      <td>100650</td>\n",
       "      <td>1998</td>\n",
       "      <td>1</td>\n",
       "      <td>61020</td>\n",
       "    </tr>\n",
       "    <tr>\n",
       "      <th>801579</th>\n",
       "      <td>1795441</td>\n",
       "      <td>1998</td>\n",
       "      <td>1</td>\n",
       "      <td>179</td>\n",
       "    </tr>\n",
       "    <tr>\n",
       "      <th>801586</th>\n",
       "      <td>1795441</td>\n",
       "      <td>1998</td>\n",
       "      <td>1</td>\n",
       "      <td>957</td>\n",
       "    </tr>\n",
       "    <tr>\n",
       "      <th>801587</th>\n",
       "      <td>1795441</td>\n",
       "      <td>1998</td>\n",
       "      <td>1</td>\n",
       "      <td>6365</td>\n",
       "    </tr>\n",
       "    <tr>\n",
       "      <th>801588</th>\n",
       "      <td>1795441</td>\n",
       "      <td>1998</td>\n",
       "      <td>1</td>\n",
       "      <td>1661</td>\n",
       "    </tr>\n",
       "    <tr>\n",
       "      <th>119478</th>\n",
       "      <td>399</td>\n",
       "      <td>1998</td>\n",
       "      <td>1</td>\n",
       "      <td>50</td>\n",
       "    </tr>\n",
       "    <tr>\n",
       "      <th>801585</th>\n",
       "      <td>1795441</td>\n",
       "      <td>1998</td>\n",
       "      <td>1</td>\n",
       "      <td>22139</td>\n",
       "    </tr>\n",
       "  </tbody>\n",
       "</table>\n",
       "</div>"
      ],
      "text/plain": [
       "        release_id  year  artist_a  artist_b\n",
       "119474         399  1998         1       674\n",
       "973732     2387641  1999         1     12458\n",
       "973729     2387641  1999         1     24023\n",
       "973725     2387641  1999         1      1716\n",
       "973720     2387641  1999         1     17870\n",
       "973714     2387641  1999         1     49470\n",
       "183018       62584  1997         1        89\n",
       "215682      100650  1998         1       674\n",
       "215676      100650  1998         1        83\n",
       "215669      100650  1998         1      8602\n",
       "171575       49823  1999         1    107031\n",
       "801532     1795441  1998         1      1373\n",
       "973707     2387641  1999         1        77\n",
       "171497       49823  1999         1      1656\n",
       "171511       49823  1999         1      2889\n",
       "171574       49823  1999         1     20080\n",
       "171573       49823  1999         1     40039\n",
       "973699     2387641  1999         1      9169\n",
       "171524       49823  1999         1      4594\n",
       "171572       49823  1999         1     40038\n",
       "171571       49823  1999         1      1068\n",
       "171570       49823  1999         1     60320\n",
       "10600      1167790  1998         1       674\n",
       "171569       49823  1999         1     25820\n",
       "171568       49823  1999         1      3361\n",
       "171567       49823  1999         1     23215\n",
       "171557       49823  1999         1      1509\n",
       "171547       49823  1999         1      1552\n",
       "171536       49823  1999         1    231513\n",
       "801518     1795441  1998         1        35\n",
       "973734     2387641  1999         1       328\n",
       "973735     2387641  1999         1    101269\n",
       "801503     1795441  1998         1    793362\n",
       "139739       20209  1997         1       674\n",
       "801568     1795441  1998         1       674\n",
       "801580     1795441  1998         1     11069\n",
       "215692      100650  1998         1     28902\n",
       "801557     1795441  1998         1       817\n",
       "801545     1795441  1998         1        31\n",
       "801581     1795441  1998         1       816\n",
       "119479         399  1998         1       675\n",
       "801582     1795441  1998         1      3592\n",
       "215688      100650  1998         1       263\n",
       "215689      100650  1998         1        59\n",
       "119480         399  1998         1       676\n",
       "215690      100650  1998         1     25419\n",
       "801583     1795441  1998         1     20662\n",
       "801584     1795441  1998         1       174\n",
       "215691      100650  1998         1     61020\n",
       "801579     1795441  1998         1       179\n",
       "801586     1795441  1998         1       957\n",
       "801587     1795441  1998         1      6365\n",
       "801588     1795441  1998         1      1661\n",
       "119478         399  1998         1        50\n",
       "801585     1795441  1998         1     22139"
      ]
     },
     "execution_count": 8,
     "metadata": {},
     "output_type": "execute_result"
    }
   ],
   "source": [
    "artist_slice"
   ]
  },
  {
   "cell_type": "code",
   "execution_count": 30,
   "id": "8808df4f",
   "metadata": {},
   "outputs": [],
   "source": [
    "all_artist_ids = np.unique(np.concatenate((data['artist_a'].unique(), data['artist_b'].unique()), axis=None))"
   ]
  },
  {
   "cell_type": "code",
   "execution_count": 38,
   "id": "93cee7c4",
   "metadata": {
    "scrolled": true
   },
   "outputs": [
    {
     "ename": "KeyboardInterrupt",
     "evalue": "",
     "output_type": "error",
     "traceback": [
      "\u001b[0;31m---------------------------------------------------------------------------\u001b[0m",
      "\u001b[0;31mKeyboardInterrupt\u001b[0m                         Traceback (most recent call last)",
      "Cell \u001b[0;32mIn[38], line 1\u001b[0m\n\u001b[0;32m----> 1\u001b[0m collab_matrix \u001b[38;5;241m=\u001b[39m \u001b[43mpd\u001b[49m\u001b[38;5;241;43m.\u001b[39;49m\u001b[43mDataFrame\u001b[49m\u001b[43m(\u001b[49m\u001b[43mdata\u001b[49m\u001b[38;5;241;43m=\u001b[39;49m\u001b[38;5;28;43;01mNone\u001b[39;49;00m\u001b[43m,\u001b[49m\u001b[43m \u001b[49m\u001b[43mindex\u001b[49m\u001b[38;5;241;43m=\u001b[39;49m\u001b[43mall_artist_ids\u001b[49m\u001b[43m,\u001b[49m\u001b[43m \u001b[49m\u001b[43mcolumns\u001b[49m\u001b[38;5;241;43m=\u001b[39;49m\u001b[43mall_artist_ids\u001b[49m\u001b[43m)\u001b[49m\n",
      "File \u001b[0;32m~/opt/anaconda3/envs/colisten/lib/python3.9/site-packages/pandas/core/frame.py:663\u001b[0m, in \u001b[0;36mDataFrame.__init__\u001b[0;34m(self, data, index, columns, dtype, copy)\u001b[0m\n\u001b[1;32m    657\u001b[0m     mgr \u001b[38;5;241m=\u001b[39m \u001b[38;5;28mself\u001b[39m\u001b[38;5;241m.\u001b[39m_init_mgr(\n\u001b[1;32m    658\u001b[0m         data, axes\u001b[38;5;241m=\u001b[39m{\u001b[38;5;124m\"\u001b[39m\u001b[38;5;124mindex\u001b[39m\u001b[38;5;124m\"\u001b[39m: index, \u001b[38;5;124m\"\u001b[39m\u001b[38;5;124mcolumns\u001b[39m\u001b[38;5;124m\"\u001b[39m: columns}, dtype\u001b[38;5;241m=\u001b[39mdtype, copy\u001b[38;5;241m=\u001b[39mcopy\n\u001b[1;32m    659\u001b[0m     )\n\u001b[1;32m    661\u001b[0m \u001b[38;5;28;01melif\u001b[39;00m \u001b[38;5;28misinstance\u001b[39m(data, \u001b[38;5;28mdict\u001b[39m):\n\u001b[1;32m    662\u001b[0m     \u001b[38;5;66;03m# GH#38939 de facto copy defaults to False only in non-dict cases\u001b[39;00m\n\u001b[0;32m--> 663\u001b[0m     mgr \u001b[38;5;241m=\u001b[39m \u001b[43mdict_to_mgr\u001b[49m\u001b[43m(\u001b[49m\u001b[43mdata\u001b[49m\u001b[43m,\u001b[49m\u001b[43m \u001b[49m\u001b[43mindex\u001b[49m\u001b[43m,\u001b[49m\u001b[43m \u001b[49m\u001b[43mcolumns\u001b[49m\u001b[43m,\u001b[49m\u001b[43m \u001b[49m\u001b[43mdtype\u001b[49m\u001b[38;5;241;43m=\u001b[39;49m\u001b[43mdtype\u001b[49m\u001b[43m,\u001b[49m\u001b[43m \u001b[49m\u001b[43mcopy\u001b[49m\u001b[38;5;241;43m=\u001b[39;49m\u001b[43mcopy\u001b[49m\u001b[43m,\u001b[49m\u001b[43m \u001b[49m\u001b[43mtyp\u001b[49m\u001b[38;5;241;43m=\u001b[39;49m\u001b[43mmanager\u001b[49m\u001b[43m)\u001b[49m\n\u001b[1;32m    664\u001b[0m \u001b[38;5;28;01melif\u001b[39;00m \u001b[38;5;28misinstance\u001b[39m(data, ma\u001b[38;5;241m.\u001b[39mMaskedArray):\n\u001b[1;32m    665\u001b[0m     \u001b[38;5;28;01mimport\u001b[39;00m \u001b[38;5;21;01mnumpy\u001b[39;00m\u001b[38;5;21;01m.\u001b[39;00m\u001b[38;5;21;01mma\u001b[39;00m\u001b[38;5;21;01m.\u001b[39;00m\u001b[38;5;21;01mmrecords\u001b[39;00m \u001b[38;5;28;01mas\u001b[39;00m \u001b[38;5;21;01mmrecords\u001b[39;00m\n",
      "File \u001b[0;32m~/opt/anaconda3/envs/colisten/lib/python3.9/site-packages/pandas/core/internals/construction.py:493\u001b[0m, in \u001b[0;36mdict_to_mgr\u001b[0;34m(data, index, columns, dtype, typ, copy)\u001b[0m\n\u001b[1;32m    489\u001b[0m     \u001b[38;5;28;01melse\u001b[39;00m:\n\u001b[1;32m    490\u001b[0m         \u001b[38;5;66;03m# dtype check to exclude e.g. range objects, scalars\u001b[39;00m\n\u001b[1;32m    491\u001b[0m         arrays \u001b[38;5;241m=\u001b[39m [x\u001b[38;5;241m.\u001b[39mcopy() \u001b[38;5;28;01mif\u001b[39;00m \u001b[38;5;28mhasattr\u001b[39m(x, \u001b[38;5;124m\"\u001b[39m\u001b[38;5;124mdtype\u001b[39m\u001b[38;5;124m\"\u001b[39m) \u001b[38;5;28;01melse\u001b[39;00m x \u001b[38;5;28;01mfor\u001b[39;00m x \u001b[38;5;129;01min\u001b[39;00m arrays]\n\u001b[0;32m--> 493\u001b[0m \u001b[38;5;28;01mreturn\u001b[39;00m \u001b[43marrays_to_mgr\u001b[49m\u001b[43m(\u001b[49m\u001b[43marrays\u001b[49m\u001b[43m,\u001b[49m\u001b[43m \u001b[49m\u001b[43mcolumns\u001b[49m\u001b[43m,\u001b[49m\u001b[43m \u001b[49m\u001b[43mindex\u001b[49m\u001b[43m,\u001b[49m\u001b[43m \u001b[49m\u001b[43mdtype\u001b[49m\u001b[38;5;241;43m=\u001b[39;49m\u001b[43mdtype\u001b[49m\u001b[43m,\u001b[49m\u001b[43m \u001b[49m\u001b[43mtyp\u001b[49m\u001b[38;5;241;43m=\u001b[39;49m\u001b[43mtyp\u001b[49m\u001b[43m,\u001b[49m\u001b[43m \u001b[49m\u001b[43mconsolidate\u001b[49m\u001b[38;5;241;43m=\u001b[39;49m\u001b[43mcopy\u001b[49m\u001b[43m)\u001b[49m\n",
      "File \u001b[0;32m~/opt/anaconda3/envs/colisten/lib/python3.9/site-packages/pandas/core/internals/construction.py:123\u001b[0m, in \u001b[0;36marrays_to_mgr\u001b[0;34m(arrays, columns, index, dtype, verify_integrity, typ, consolidate)\u001b[0m\n\u001b[1;32m    120\u001b[0m         index \u001b[38;5;241m=\u001b[39m ensure_index(index)\n\u001b[1;32m    122\u001b[0m     \u001b[38;5;66;03m# don't force copy because getting jammed in an ndarray anyway\u001b[39;00m\n\u001b[0;32m--> 123\u001b[0m     arrays \u001b[38;5;241m=\u001b[39m \u001b[43m_homogenize\u001b[49m\u001b[43m(\u001b[49m\u001b[43marrays\u001b[49m\u001b[43m,\u001b[49m\u001b[43m \u001b[49m\u001b[43mindex\u001b[49m\u001b[43m,\u001b[49m\u001b[43m \u001b[49m\u001b[43mdtype\u001b[49m\u001b[43m)\u001b[49m\n\u001b[1;32m    124\u001b[0m     \u001b[38;5;66;03m# _homogenize ensures\u001b[39;00m\n\u001b[1;32m    125\u001b[0m     \u001b[38;5;66;03m#  - all(len(x) == len(index) for x in arrays)\u001b[39;00m\n\u001b[1;32m    126\u001b[0m     \u001b[38;5;66;03m#  - all(x.ndim == 1 for x in arrays)\u001b[39;00m\n\u001b[0;32m   (...)\u001b[0m\n\u001b[1;32m    129\u001b[0m \n\u001b[1;32m    130\u001b[0m \u001b[38;5;28;01melse\u001b[39;00m:\n\u001b[1;32m    131\u001b[0m     index \u001b[38;5;241m=\u001b[39m ensure_index(index)\n",
      "File \u001b[0;32m~/opt/anaconda3/envs/colisten/lib/python3.9/site-packages/pandas/core/internals/construction.py:617\u001b[0m, in \u001b[0;36m_homogenize\u001b[0;34m(data, index, dtype)\u001b[0m\n\u001b[1;32m    614\u001b[0m             val \u001b[38;5;241m=\u001b[39m \u001b[38;5;28mdict\u001b[39m(val)\n\u001b[1;32m    615\u001b[0m         val \u001b[38;5;241m=\u001b[39m lib\u001b[38;5;241m.\u001b[39mfast_multiget(val, oindex\u001b[38;5;241m.\u001b[39m_values, default\u001b[38;5;241m=\u001b[39mnp\u001b[38;5;241m.\u001b[39mnan)\n\u001b[0;32m--> 617\u001b[0m     val \u001b[38;5;241m=\u001b[39m \u001b[43msanitize_array\u001b[49m\u001b[43m(\u001b[49m\n\u001b[1;32m    618\u001b[0m \u001b[43m        \u001b[49m\u001b[43mval\u001b[49m\u001b[43m,\u001b[49m\u001b[43m \u001b[49m\u001b[43mindex\u001b[49m\u001b[43m,\u001b[49m\u001b[43m \u001b[49m\u001b[43mdtype\u001b[49m\u001b[38;5;241;43m=\u001b[39;49m\u001b[43mdtype\u001b[49m\u001b[43m,\u001b[49m\u001b[43m \u001b[49m\u001b[43mcopy\u001b[49m\u001b[38;5;241;43m=\u001b[39;49m\u001b[38;5;28;43;01mFalse\u001b[39;49;00m\u001b[43m,\u001b[49m\u001b[43m \u001b[49m\u001b[43mraise_cast_failure\u001b[49m\u001b[38;5;241;43m=\u001b[39;49m\u001b[38;5;28;43;01mFalse\u001b[39;49;00m\n\u001b[1;32m    619\u001b[0m \u001b[43m    \u001b[49m\u001b[43m)\u001b[49m\n\u001b[1;32m    620\u001b[0m     com\u001b[38;5;241m.\u001b[39mrequire_length_match(val, index)\n\u001b[1;32m    622\u001b[0m homogenized\u001b[38;5;241m.\u001b[39mappend(val)\n",
      "File \u001b[0;32m~/opt/anaconda3/envs/colisten/lib/python3.9/site-packages/pandas/core/construction.py:597\u001b[0m, in \u001b[0;36msanitize_array\u001b[0;34m(data, index, dtype, copy, raise_cast_failure, allow_2d)\u001b[0m\n\u001b[1;32m    594\u001b[0m             subarr \u001b[38;5;241m=\u001b[39m np\u001b[38;5;241m.\u001b[39marray(data, copy\u001b[38;5;241m=\u001b[39mcopy)\n\u001b[1;32m    595\u001b[0m     \u001b[38;5;28;01melse\u001b[39;00m:\n\u001b[1;32m    596\u001b[0m         \u001b[38;5;66;03m# we will try to copy by-definition here\u001b[39;00m\n\u001b[0;32m--> 597\u001b[0m         subarr \u001b[38;5;241m=\u001b[39m \u001b[43m_try_cast\u001b[49m\u001b[43m(\u001b[49m\u001b[43mdata\u001b[49m\u001b[43m,\u001b[49m\u001b[43m \u001b[49m\u001b[43mdtype\u001b[49m\u001b[43m,\u001b[49m\u001b[43m \u001b[49m\u001b[43mcopy\u001b[49m\u001b[43m,\u001b[49m\u001b[43m \u001b[49m\u001b[43mraise_cast_failure\u001b[49m\u001b[43m)\u001b[49m\n\u001b[1;32m    599\u001b[0m \u001b[38;5;28;01melif\u001b[39;00m \u001b[38;5;28misinstance\u001b[39m(data, ABCExtensionArray):\n\u001b[1;32m    600\u001b[0m     \u001b[38;5;66;03m# it is already ensured above this is not a PandasArray\u001b[39;00m\n\u001b[1;32m    601\u001b[0m     subarr \u001b[38;5;241m=\u001b[39m data\n",
      "File \u001b[0;32m~/opt/anaconda3/envs/colisten/lib/python3.9/site-packages/pandas/core/construction.py:777\u001b[0m, in \u001b[0;36m_try_cast\u001b[0;34m(arr, dtype, copy, raise_cast_failure)\u001b[0m\n\u001b[1;32m    774\u001b[0m \u001b[38;5;28;01mif\u001b[39;00m arr\u001b[38;5;241m.\u001b[39mdtype \u001b[38;5;241m!=\u001b[39m \u001b[38;5;28mobject\u001b[39m:\n\u001b[1;32m    775\u001b[0m     \u001b[38;5;28;01mreturn\u001b[39;00m sanitize_to_nanoseconds(arr, copy\u001b[38;5;241m=\u001b[39mcopy)\n\u001b[0;32m--> 777\u001b[0m out \u001b[38;5;241m=\u001b[39m \u001b[43mmaybe_infer_to_datetimelike\u001b[49m\u001b[43m(\u001b[49m\u001b[43marr\u001b[49m\u001b[43m)\u001b[49m\n\u001b[1;32m    778\u001b[0m \u001b[38;5;28;01mif\u001b[39;00m out \u001b[38;5;129;01mis\u001b[39;00m arr \u001b[38;5;129;01mand\u001b[39;00m copy:\n\u001b[1;32m    779\u001b[0m     out \u001b[38;5;241m=\u001b[39m out\u001b[38;5;241m.\u001b[39mcopy()\n",
      "File \u001b[0;32m~/opt/anaconda3/envs/colisten/lib/python3.9/site-packages/pandas/core/dtypes/cast.py:1243\u001b[0m, in \u001b[0;36mmaybe_infer_to_datetimelike\u001b[0;34m(value)\u001b[0m\n\u001b[1;32m   1240\u001b[0m     \u001b[38;5;28;01melse\u001b[39;00m:\n\u001b[1;32m   1241\u001b[0m         \u001b[38;5;28;01mreturn\u001b[39;00m td_values\u001b[38;5;241m.\u001b[39mreshape(shape)\n\u001b[0;32m-> 1243\u001b[0m inferred_type, seen_str \u001b[38;5;241m=\u001b[39m \u001b[43mlib\u001b[49m\u001b[38;5;241;43m.\u001b[39;49m\u001b[43minfer_datetimelike_array\u001b[49m\u001b[43m(\u001b[49m\u001b[43mensure_object\u001b[49m\u001b[43m(\u001b[49m\u001b[43mv\u001b[49m\u001b[43m)\u001b[49m\u001b[43m)\u001b[49m\n\u001b[1;32m   1244\u001b[0m \u001b[38;5;28;01mif\u001b[39;00m inferred_type \u001b[38;5;129;01min\u001b[39;00m [\u001b[38;5;124m\"\u001b[39m\u001b[38;5;124mperiod\u001b[39m\u001b[38;5;124m\"\u001b[39m, \u001b[38;5;124m\"\u001b[39m\u001b[38;5;124minterval\u001b[39m\u001b[38;5;124m\"\u001b[39m]:\n\u001b[1;32m   1245\u001b[0m     \u001b[38;5;66;03m# Incompatible return value type (got \"Union[ExtensionArray, ndarray]\",\u001b[39;00m\n\u001b[1;32m   1246\u001b[0m     \u001b[38;5;66;03m# expected \"Union[ndarray, DatetimeArray, TimedeltaArray, PeriodArray,\u001b[39;00m\n\u001b[1;32m   1247\u001b[0m     \u001b[38;5;66;03m# IntervalArray]\")\u001b[39;00m\n\u001b[1;32m   1248\u001b[0m     \u001b[38;5;28;01mreturn\u001b[39;00m lib\u001b[38;5;241m.\u001b[39mmaybe_convert_objects(  \u001b[38;5;66;03m# type: ignore[return-value]\u001b[39;00m\n\u001b[1;32m   1249\u001b[0m         v, convert_period\u001b[38;5;241m=\u001b[39m\u001b[38;5;28;01mTrue\u001b[39;00m, convert_interval\u001b[38;5;241m=\u001b[39m\u001b[38;5;28;01mTrue\u001b[39;00m\n\u001b[1;32m   1250\u001b[0m     )\n",
      "\u001b[0;31mKeyboardInterrupt\u001b[0m: "
     ]
    }
   ],
   "source": [
    "# collab_matrix = pd.DataFrame(data=None, index=all_artist_ids, columns=all_artist_ids)\n",
    "# this takes forever"
   ]
  },
  {
   "cell_type": "code",
   "execution_count": 70,
   "id": "8f3c3d71",
   "metadata": {},
   "outputs": [],
   "source": [
    "collab_matrix = np.zeros((len(all_artist_ids), len(all_artist_ids)))"
   ]
  },
  {
   "cell_type": "code",
   "execution_count": 44,
   "id": "0f1ad0aa",
   "metadata": {},
   "outputs": [],
   "source": [
    "artist_one_collabs = collab_matrix[0]"
   ]
  },
  {
   "cell_type": "code",
   "execution_count": 49,
   "id": "6234685d",
   "metadata": {},
   "outputs": [
    {
     "data": {
      "text/plain": [
       "1"
      ]
     },
     "execution_count": 49,
     "metadata": {},
     "output_type": "execute_result"
    }
   ],
   "source": [
    "artist_one = all_artist_ids[0]\n",
    "artist_one"
   ]
  },
  {
   "cell_type": "code",
   "execution_count": 64,
   "id": "27711dd1",
   "metadata": {},
   "outputs": [],
   "source": [
    "subslice = data[data['artist_a'] == artist_one]\n",
    "subslice\n",
    "# for entry in subslice.iterrows() :\n",
    "#     collaborator_index = np.where(all_artist_ids == entry['artist_b'])\n",
    "#     artist_one_collabs[collaborator_index] += 1"
   ]
  },
  {
   "cell_type": "code",
   "execution_count": 67,
   "id": "f521af75",
   "metadata": {},
   "outputs": [],
   "source": [
    "collaborator_index = np.where(all_artist_ids == one_row['artist_b'])\n",
    "artist_one_collabs[collaborator_index] += 1"
   ]
  },
  {
   "cell_type": "code",
   "execution_count": 68,
   "id": "2650897a",
   "metadata": {},
   "outputs": [
    {
     "data": {
      "text/plain": [
       "array([0., 0., 0., ..., 0., 0., 0.])"
      ]
     },
     "execution_count": 68,
     "metadata": {},
     "output_type": "execute_result"
    }
   ],
   "source": [
    "artist_one_collabs"
   ]
  },
  {
   "cell_type": "code",
   "execution_count": 71,
   "id": "ec1b5841",
   "metadata": {},
   "outputs": [],
   "source": [
    "test_idcs = [0,2]"
   ]
  },
  {
   "cell_type": "code",
   "execution_count": 92,
   "id": "79bc646d",
   "metadata": {},
   "outputs": [],
   "source": [
    "id_1 = all_artist_ids[test_idcs[0]]\n",
    "id_2 = all_artist_ids[test_idcs[1]]\n",
    "sst = data[((data['artist_a'] == id_1) & (data['artist_b'] == 674)) | ((data['artist_a'] == id_2) & (data['artist_b'] == id_1))]"
   ]
  },
  {
   "cell_type": "code",
   "execution_count": 93,
   "id": "51ca2f12",
   "metadata": {
    "scrolled": true
   },
   "outputs": [
    {
     "data": {
      "text/html": [
       "<div>\n",
       "<style scoped>\n",
       "    .dataframe tbody tr th:only-of-type {\n",
       "        vertical-align: middle;\n",
       "    }\n",
       "\n",
       "    .dataframe tbody tr th {\n",
       "        vertical-align: top;\n",
       "    }\n",
       "\n",
       "    .dataframe thead th {\n",
       "        text-align: right;\n",
       "    }\n",
       "</style>\n",
       "<table border=\"1\" class=\"dataframe\">\n",
       "  <thead>\n",
       "    <tr style=\"text-align: right;\">\n",
       "      <th></th>\n",
       "      <th>release_id</th>\n",
       "      <th>year</th>\n",
       "      <th>artist_a</th>\n",
       "      <th>artist_b</th>\n",
       "    </tr>\n",
       "  </thead>\n",
       "  <tbody>\n",
       "    <tr>\n",
       "      <th>119474</th>\n",
       "      <td>399</td>\n",
       "      <td>1998</td>\n",
       "      <td>1</td>\n",
       "      <td>674</td>\n",
       "    </tr>\n",
       "    <tr>\n",
       "      <th>215682</th>\n",
       "      <td>100650</td>\n",
       "      <td>1998</td>\n",
       "      <td>1</td>\n",
       "      <td>674</td>\n",
       "    </tr>\n",
       "    <tr>\n",
       "      <th>10600</th>\n",
       "      <td>1167790</td>\n",
       "      <td>1998</td>\n",
       "      <td>1</td>\n",
       "      <td>674</td>\n",
       "    </tr>\n",
       "    <tr>\n",
       "      <th>139739</th>\n",
       "      <td>20209</td>\n",
       "      <td>1997</td>\n",
       "      <td>1</td>\n",
       "      <td>674</td>\n",
       "    </tr>\n",
       "    <tr>\n",
       "      <th>801568</th>\n",
       "      <td>1795441</td>\n",
       "      <td>1998</td>\n",
       "      <td>1</td>\n",
       "      <td>674</td>\n",
       "    </tr>\n",
       "  </tbody>\n",
       "</table>\n",
       "</div>"
      ],
      "text/plain": [
       "        release_id  year  artist_a  artist_b\n",
       "119474         399  1998         1       674\n",
       "215682      100650  1998         1       674\n",
       "10600      1167790  1998         1       674\n",
       "139739       20209  1997         1       674\n",
       "801568     1795441  1998         1       674"
      ]
     },
     "execution_count": 93,
     "metadata": {},
     "output_type": "execute_result"
    }
   ],
   "source": [
    "sst"
   ]
  },
  {
   "cell_type": "code",
   "execution_count": 101,
   "id": "c4c90316",
   "metadata": {
    "scrolled": false
   },
   "outputs": [
    {
     "ename": "KeyboardInterrupt",
     "evalue": "",
     "output_type": "error",
     "traceback": [
      "\u001b[0;31m---------------------------------------------------------------------------\u001b[0m",
      "\u001b[0;31mKeyboardInterrupt\u001b[0m                         Traceback (most recent call last)",
      "Cell \u001b[0;32mIn[101], line 6\u001b[0m\n\u001b[1;32m      3\u001b[0m artist_1 \u001b[38;5;241m=\u001b[39m all_artist_ids[i]\n\u001b[1;32m      4\u001b[0m artist_2 \u001b[38;5;241m=\u001b[39m all_artist_ids[j]\n\u001b[1;32m      5\u001b[0m collab_matrix[i,j] \u001b[38;5;241m=\u001b[39m \u001b[38;5;28mlen\u001b[39m(data[\n\u001b[0;32m----> 6\u001b[0m     ((\u001b[43mdata\u001b[49m\u001b[43m[\u001b[49m\u001b[38;5;124;43m'\u001b[39;49m\u001b[38;5;124;43martist_a\u001b[39;49m\u001b[38;5;124;43m'\u001b[39;49m\u001b[43m]\u001b[49m\u001b[43m \u001b[49m\u001b[38;5;241;43m==\u001b[39;49m\u001b[43m \u001b[49m\u001b[43mid_1\u001b[49m) \u001b[38;5;241m&\u001b[39m (data[\u001b[38;5;124m'\u001b[39m\u001b[38;5;124martist_b\u001b[39m\u001b[38;5;124m'\u001b[39m] \u001b[38;5;241m==\u001b[39m id_2)) \n\u001b[1;32m      7\u001b[0m     \u001b[38;5;241m|\u001b[39m ((data[\u001b[38;5;124m'\u001b[39m\u001b[38;5;124martist_a\u001b[39m\u001b[38;5;124m'\u001b[39m] \u001b[38;5;241m==\u001b[39m id_2) \u001b[38;5;241m&\u001b[39m (data[\u001b[38;5;124m'\u001b[39m\u001b[38;5;124martist_b\u001b[39m\u001b[38;5;124m'\u001b[39m] \u001b[38;5;241m==\u001b[39m id_1))\n\u001b[1;32m      8\u001b[0m ])\n",
      "File \u001b[0;32m~/opt/anaconda3/envs/colisten/lib/python3.9/site-packages/pandas/core/ops/common.py:72\u001b[0m, in \u001b[0;36m_unpack_zerodim_and_defer.<locals>.new_method\u001b[0;34m(self, other)\u001b[0m\n\u001b[1;32m     68\u001b[0m             \u001b[38;5;28;01mreturn\u001b[39;00m \u001b[38;5;28mNotImplemented\u001b[39m\n\u001b[1;32m     70\u001b[0m other \u001b[38;5;241m=\u001b[39m item_from_zerodim(other)\n\u001b[0;32m---> 72\u001b[0m \u001b[38;5;28;01mreturn\u001b[39;00m \u001b[43mmethod\u001b[49m\u001b[43m(\u001b[49m\u001b[38;5;28;43mself\u001b[39;49m\u001b[43m,\u001b[49m\u001b[43m \u001b[49m\u001b[43mother\u001b[49m\u001b[43m)\u001b[49m\n",
      "File \u001b[0;32m~/opt/anaconda3/envs/colisten/lib/python3.9/site-packages/pandas/core/arraylike.py:42\u001b[0m, in \u001b[0;36mOpsMixin.__eq__\u001b[0;34m(self, other)\u001b[0m\n\u001b[1;32m     40\u001b[0m \u001b[38;5;129m@unpack_zerodim_and_defer\u001b[39m(\u001b[38;5;124m\"\u001b[39m\u001b[38;5;124m__eq__\u001b[39m\u001b[38;5;124m\"\u001b[39m)\n\u001b[1;32m     41\u001b[0m \u001b[38;5;28;01mdef\u001b[39;00m \u001b[38;5;21m__eq__\u001b[39m(\u001b[38;5;28mself\u001b[39m, other):\n\u001b[0;32m---> 42\u001b[0m     \u001b[38;5;28;01mreturn\u001b[39;00m \u001b[38;5;28;43mself\u001b[39;49m\u001b[38;5;241;43m.\u001b[39;49m\u001b[43m_cmp_method\u001b[49m\u001b[43m(\u001b[49m\u001b[43mother\u001b[49m\u001b[43m,\u001b[49m\u001b[43m \u001b[49m\u001b[43moperator\u001b[49m\u001b[38;5;241;43m.\u001b[39;49m\u001b[43meq\u001b[49m\u001b[43m)\u001b[49m\n",
      "File \u001b[0;32m~/opt/anaconda3/envs/colisten/lib/python3.9/site-packages/pandas/core/series.py:6243\u001b[0m, in \u001b[0;36mSeries._cmp_method\u001b[0;34m(self, other, op)\u001b[0m\n\u001b[1;32m   6240\u001b[0m rvalues \u001b[38;5;241m=\u001b[39m extract_array(other, extract_numpy\u001b[38;5;241m=\u001b[39m\u001b[38;5;28;01mTrue\u001b[39;00m, extract_range\u001b[38;5;241m=\u001b[39m\u001b[38;5;28;01mTrue\u001b[39;00m)\n\u001b[1;32m   6242\u001b[0m \u001b[38;5;28;01mwith\u001b[39;00m np\u001b[38;5;241m.\u001b[39merrstate(\u001b[38;5;28mall\u001b[39m\u001b[38;5;241m=\u001b[39m\u001b[38;5;124m\"\u001b[39m\u001b[38;5;124mignore\u001b[39m\u001b[38;5;124m\"\u001b[39m):\n\u001b[0;32m-> 6243\u001b[0m     res_values \u001b[38;5;241m=\u001b[39m \u001b[43mops\u001b[49m\u001b[38;5;241;43m.\u001b[39;49m\u001b[43mcomparison_op\u001b[49m\u001b[43m(\u001b[49m\u001b[43mlvalues\u001b[49m\u001b[43m,\u001b[49m\u001b[43m \u001b[49m\u001b[43mrvalues\u001b[49m\u001b[43m,\u001b[49m\u001b[43m \u001b[49m\u001b[43mop\u001b[49m\u001b[43m)\u001b[49m\n\u001b[1;32m   6245\u001b[0m \u001b[38;5;28;01mreturn\u001b[39;00m \u001b[38;5;28mself\u001b[39m\u001b[38;5;241m.\u001b[39m_construct_result(res_values, name\u001b[38;5;241m=\u001b[39mres_name)\n",
      "File \u001b[0;32m~/opt/anaconda3/envs/colisten/lib/python3.9/site-packages/pandas/core/ops/array_ops.py:290\u001b[0m, in \u001b[0;36mcomparison_op\u001b[0;34m(left, right, op)\u001b[0m\n\u001b[1;32m    287\u001b[0m     res_values \u001b[38;5;241m=\u001b[39m comp_method_OBJECT_ARRAY(op, lvalues, rvalues)\n\u001b[1;32m    289\u001b[0m \u001b[38;5;28;01melse\u001b[39;00m:\n\u001b[0;32m--> 290\u001b[0m     res_values \u001b[38;5;241m=\u001b[39m \u001b[43m_na_arithmetic_op\u001b[49m\u001b[43m(\u001b[49m\u001b[43mlvalues\u001b[49m\u001b[43m,\u001b[49m\u001b[43m \u001b[49m\u001b[43mrvalues\u001b[49m\u001b[43m,\u001b[49m\u001b[43m \u001b[49m\u001b[43mop\u001b[49m\u001b[43m,\u001b[49m\u001b[43m \u001b[49m\u001b[43mis_cmp\u001b[49m\u001b[38;5;241;43m=\u001b[39;49m\u001b[38;5;28;43;01mTrue\u001b[39;49;00m\u001b[43m)\u001b[49m\n\u001b[1;32m    292\u001b[0m \u001b[38;5;28;01mreturn\u001b[39;00m res_values\n",
      "File \u001b[0;32m~/opt/anaconda3/envs/colisten/lib/python3.9/site-packages/pandas/core/ops/array_ops.py:165\u001b[0m, in \u001b[0;36m_na_arithmetic_op\u001b[0;34m(left, right, op, is_cmp)\u001b[0m\n\u001b[1;32m    162\u001b[0m     func \u001b[38;5;241m=\u001b[39m partial(expressions\u001b[38;5;241m.\u001b[39mevaluate, op)\n\u001b[1;32m    164\u001b[0m \u001b[38;5;28;01mtry\u001b[39;00m:\n\u001b[0;32m--> 165\u001b[0m     result \u001b[38;5;241m=\u001b[39m \u001b[43mfunc\u001b[49m\u001b[43m(\u001b[49m\u001b[43mleft\u001b[49m\u001b[43m,\u001b[49m\u001b[43m \u001b[49m\u001b[43mright\u001b[49m\u001b[43m)\u001b[49m\n\u001b[1;32m    166\u001b[0m \u001b[38;5;28;01mexcept\u001b[39;00m \u001b[38;5;167;01mTypeError\u001b[39;00m:\n\u001b[1;32m    167\u001b[0m     \u001b[38;5;28;01mif\u001b[39;00m \u001b[38;5;129;01mnot\u001b[39;00m is_cmp \u001b[38;5;129;01mand\u001b[39;00m (is_object_dtype(left\u001b[38;5;241m.\u001b[39mdtype) \u001b[38;5;129;01mor\u001b[39;00m is_object_dtype(right)):\n\u001b[1;32m    168\u001b[0m         \u001b[38;5;66;03m# For object dtype, fallback to a masked operation (only operating\u001b[39;00m\n\u001b[1;32m    169\u001b[0m         \u001b[38;5;66;03m#  on the non-missing values)\u001b[39;00m\n\u001b[1;32m    170\u001b[0m         \u001b[38;5;66;03m# Don't do this for comparisons, as that will handle complex numbers\u001b[39;00m\n\u001b[1;32m    171\u001b[0m         \u001b[38;5;66;03m#  incorrectly, see GH#32047\u001b[39;00m\n",
      "File \u001b[0;32m~/opt/anaconda3/envs/colisten/lib/python3.9/site-packages/pandas/core/computation/expressions.py:241\u001b[0m, in \u001b[0;36mevaluate\u001b[0;34m(op, a, b, use_numexpr)\u001b[0m\n\u001b[1;32m    238\u001b[0m \u001b[38;5;28;01mif\u001b[39;00m op_str \u001b[38;5;129;01mis\u001b[39;00m \u001b[38;5;129;01mnot\u001b[39;00m \u001b[38;5;28;01mNone\u001b[39;00m:\n\u001b[1;32m    239\u001b[0m     \u001b[38;5;28;01mif\u001b[39;00m use_numexpr:\n\u001b[1;32m    240\u001b[0m         \u001b[38;5;66;03m# error: \"None\" not callable\u001b[39;00m\n\u001b[0;32m--> 241\u001b[0m         \u001b[38;5;28;01mreturn\u001b[39;00m \u001b[43m_evaluate\u001b[49m\u001b[43m(\u001b[49m\u001b[43mop\u001b[49m\u001b[43m,\u001b[49m\u001b[43m \u001b[49m\u001b[43mop_str\u001b[49m\u001b[43m,\u001b[49m\u001b[43m \u001b[49m\u001b[43ma\u001b[49m\u001b[43m,\u001b[49m\u001b[43m \u001b[49m\u001b[43mb\u001b[49m\u001b[43m)\u001b[49m  \u001b[38;5;66;03m# type: ignore[misc]\u001b[39;00m\n\u001b[1;32m    242\u001b[0m \u001b[38;5;28;01mreturn\u001b[39;00m _evaluate_standard(op, op_str, a, b)\n",
      "File \u001b[0;32m~/opt/anaconda3/envs/colisten/lib/python3.9/site-packages/pandas/core/computation/expressions.py:106\u001b[0m, in \u001b[0;36m_evaluate_numexpr\u001b[0;34m(op, op_str, a, b)\u001b[0m\n\u001b[1;32m    103\u001b[0m b_value \u001b[38;5;241m=\u001b[39m b\n\u001b[1;32m    105\u001b[0m \u001b[38;5;28;01mtry\u001b[39;00m:\n\u001b[0;32m--> 106\u001b[0m     result \u001b[38;5;241m=\u001b[39m \u001b[43mne\u001b[49m\u001b[38;5;241;43m.\u001b[39;49m\u001b[43mevaluate\u001b[49m\u001b[43m(\u001b[49m\n\u001b[1;32m    107\u001b[0m \u001b[43m        \u001b[49m\u001b[38;5;124;43mf\u001b[39;49m\u001b[38;5;124;43m\"\u001b[39;49m\u001b[38;5;124;43ma_value \u001b[39;49m\u001b[38;5;132;43;01m{\u001b[39;49;00m\u001b[43mop_str\u001b[49m\u001b[38;5;132;43;01m}\u001b[39;49;00m\u001b[38;5;124;43m b_value\u001b[39;49m\u001b[38;5;124;43m\"\u001b[39;49m\u001b[43m,\u001b[49m\n\u001b[1;32m    108\u001b[0m \u001b[43m        \u001b[49m\u001b[43mlocal_dict\u001b[49m\u001b[38;5;241;43m=\u001b[39;49m\u001b[43m{\u001b[49m\u001b[38;5;124;43m\"\u001b[39;49m\u001b[38;5;124;43ma_value\u001b[39;49m\u001b[38;5;124;43m\"\u001b[39;49m\u001b[43m:\u001b[49m\u001b[43m \u001b[49m\u001b[43ma_value\u001b[49m\u001b[43m,\u001b[49m\u001b[43m \u001b[49m\u001b[38;5;124;43m\"\u001b[39;49m\u001b[38;5;124;43mb_value\u001b[39;49m\u001b[38;5;124;43m\"\u001b[39;49m\u001b[43m:\u001b[49m\u001b[43m \u001b[49m\u001b[43mb_value\u001b[49m\u001b[43m}\u001b[49m\u001b[43m,\u001b[49m\n\u001b[1;32m    109\u001b[0m \u001b[43m        \u001b[49m\u001b[43mcasting\u001b[49m\u001b[38;5;241;43m=\u001b[39;49m\u001b[38;5;124;43m\"\u001b[39;49m\u001b[38;5;124;43msafe\u001b[39;49m\u001b[38;5;124;43m\"\u001b[39;49m\u001b[43m,\u001b[49m\n\u001b[1;32m    110\u001b[0m \u001b[43m    \u001b[49m\u001b[43m)\u001b[49m\n\u001b[1;32m    111\u001b[0m \u001b[38;5;28;01mexcept\u001b[39;00m \u001b[38;5;167;01mTypeError\u001b[39;00m:\n\u001b[1;32m    112\u001b[0m     \u001b[38;5;66;03m# numexpr raises eg for array ** array with integers\u001b[39;00m\n\u001b[1;32m    113\u001b[0m     \u001b[38;5;66;03m# (https://github.com/pydata/numexpr/issues/379)\u001b[39;00m\n\u001b[1;32m    114\u001b[0m     \u001b[38;5;28;01mpass\u001b[39;00m\n",
      "File \u001b[0;32m~/opt/anaconda3/envs/colisten/lib/python3.9/site-packages/numexpr/necompiler.py:835\u001b[0m, in \u001b[0;36mevaluate\u001b[0;34m(ex, local_dict, global_dict, out, order, casting, **kwargs)\u001b[0m\n\u001b[1;32m    833\u001b[0m _numexpr_last \u001b[38;5;241m=\u001b[39m \u001b[38;5;28mdict\u001b[39m(ex\u001b[38;5;241m=\u001b[39mcompiled_ex, argnames\u001b[38;5;241m=\u001b[39mnames, kwargs\u001b[38;5;241m=\u001b[39mkwargs)\n\u001b[1;32m    834\u001b[0m \u001b[38;5;28;01mwith\u001b[39;00m evaluate_lock:\n\u001b[0;32m--> 835\u001b[0m     \u001b[38;5;28;01mreturn\u001b[39;00m \u001b[43mcompiled_ex\u001b[49m\u001b[43m(\u001b[49m\u001b[38;5;241;43m*\u001b[39;49m\u001b[43marguments\u001b[49m\u001b[43m,\u001b[49m\u001b[43m \u001b[49m\u001b[38;5;241;43m*\u001b[39;49m\u001b[38;5;241;43m*\u001b[39;49m\u001b[43mkwargs\u001b[49m\u001b[43m)\u001b[49m\n",
      "\u001b[0;31mKeyboardInterrupt\u001b[0m: "
     ]
    }
   ],
   "source": [
    "for i in range(len(collab_matrix)): \n",
    "    for j in range(i, len(collab_matrix)):\n",
    "        artist_1 = all_artist_ids[i]\n",
    "        artist_2 = all_artist_ids[j]\n",
    "        collab_matrix[i,j] = len(data[\n",
    "            ((data['artist_a'] == id_1) & (data['artist_b'] == id_2)) \n",
    "            | ((data['artist_a'] == id_2) & (data['artist_b'] == id_1))\n",
    "        ])"
   ]
  },
  {
   "cell_type": "code",
   "execution_count": 106,
   "id": "068d43a9",
   "metadata": {},
   "outputs": [
    {
     "name": "stdout",
     "output_type": "stream",
     "text": [
      "Collecting igraph\n",
      "  Downloading igraph-0.10.2-cp39-abi3-macosx_10_9_x86_64.whl (2.1 MB)\n",
      "\u001b[2K     \u001b[38;2;114;156;31m━━━━━━━━━━━━━━━━━━━━━━━━━━━━━━━━━━━━━━━━\u001b[0m \u001b[32m2.1/2.1 MB\u001b[0m \u001b[31m14.0 MB/s\u001b[0m eta \u001b[36m0:00:00\u001b[0mm eta \u001b[36m0:00:01\u001b[0m[36m0:00:01\u001b[0m\n",
      "\u001b[?25hCollecting texttable>=1.6.2\n",
      "  Downloading texttable-1.6.7-py2.py3-none-any.whl (10 kB)\n",
      "Installing collected packages: texttable, igraph\n",
      "Successfully installed igraph-0.10.2 texttable-1.6.7\n"
     ]
    }
   ],
   "source": [
    "# let's try this another way\n",
    "\n",
    "! pip install igraph"
   ]
  },
  {
   "cell_type": "code",
   "execution_count": 107,
   "id": "4350b11b",
   "metadata": {},
   "outputs": [],
   "source": [
    "import igraph"
   ]
  },
  {
   "cell_type": "code",
   "execution_count": 109,
   "id": "ffd0c255",
   "metadata": {},
   "outputs": [],
   "source": [
    "edgelist = data[['artist_a', 'artist_b']]"
   ]
  },
  {
   "cell_type": "code",
   "execution_count": 143,
   "id": "5d2fa3ea",
   "metadata": {
    "scrolled": true
   },
   "outputs": [
    {
     "data": {
      "text/html": [
       "<div>\n",
       "<style scoped>\n",
       "    .dataframe tbody tr th:only-of-type {\n",
       "        vertical-align: middle;\n",
       "    }\n",
       "\n",
       "    .dataframe tbody tr th {\n",
       "        vertical-align: top;\n",
       "    }\n",
       "\n",
       "    .dataframe thead th {\n",
       "        text-align: right;\n",
       "    }\n",
       "</style>\n",
       "<table border=\"1\" class=\"dataframe\">\n",
       "  <thead>\n",
       "    <tr style=\"text-align: right;\">\n",
       "      <th></th>\n",
       "      <th>artist_a</th>\n",
       "      <th>artist_b</th>\n",
       "    </tr>\n",
       "  </thead>\n",
       "  <tbody>\n",
       "    <tr>\n",
       "      <th>119474</th>\n",
       "      <td>1</td>\n",
       "      <td>674</td>\n",
       "    </tr>\n",
       "    <tr>\n",
       "      <th>973732</th>\n",
       "      <td>1</td>\n",
       "      <td>12458</td>\n",
       "    </tr>\n",
       "    <tr>\n",
       "      <th>973729</th>\n",
       "      <td>1</td>\n",
       "      <td>24023</td>\n",
       "    </tr>\n",
       "    <tr>\n",
       "      <th>973725</th>\n",
       "      <td>1</td>\n",
       "      <td>1716</td>\n",
       "    </tr>\n",
       "    <tr>\n",
       "      <th>973720</th>\n",
       "      <td>1</td>\n",
       "      <td>17870</td>\n",
       "    </tr>\n",
       "    <tr>\n",
       "      <th>...</th>\n",
       "      <td>...</td>\n",
       "      <td>...</td>\n",
       "    </tr>\n",
       "    <tr>\n",
       "      <th>1294405</th>\n",
       "      <td>7753982</td>\n",
       "      <td>7753983</td>\n",
       "    </tr>\n",
       "    <tr>\n",
       "      <th>1585089</th>\n",
       "      <td>7756428</td>\n",
       "      <td>7756429</td>\n",
       "    </tr>\n",
       "    <tr>\n",
       "      <th>1556605</th>\n",
       "      <td>7758826</td>\n",
       "      <td>7758827</td>\n",
       "    </tr>\n",
       "    <tr>\n",
       "      <th>1656788</th>\n",
       "      <td>7765143</td>\n",
       "      <td>7765144</td>\n",
       "    </tr>\n",
       "    <tr>\n",
       "      <th>1656789</th>\n",
       "      <td>7765143</td>\n",
       "      <td>7765144</td>\n",
       "    </tr>\n",
       "  </tbody>\n",
       "</table>\n",
       "<p>1656791 rows × 2 columns</p>\n",
       "</div>"
      ],
      "text/plain": [
       "         artist_a  artist_b\n",
       "119474          1       674\n",
       "973732          1     12458\n",
       "973729          1     24023\n",
       "973725          1      1716\n",
       "973720          1     17870\n",
       "...           ...       ...\n",
       "1294405   7753982   7753983\n",
       "1585089   7756428   7756429\n",
       "1556605   7758826   7758827\n",
       "1656788   7765143   7765144\n",
       "1656789   7765143   7765144\n",
       "\n",
       "[1656791 rows x 2 columns]"
      ]
     },
     "execution_count": 143,
     "metadata": {},
     "output_type": "execute_result"
    }
   ],
   "source": [
    "edgelist"
   ]
  },
  {
   "cell_type": "code",
   "execution_count": 144,
   "id": "7ec5b0d6",
   "metadata": {
    "scrolled": true
   },
   "outputs": [
    {
     "data": {
      "text/plain": [
       "5"
      ]
     },
     "execution_count": 144,
     "metadata": {},
     "output_type": "execute_result"
    }
   ],
   "source": [
    "len(\n",
    "    edgelist[(edgelist['artist_a']  == 1) & (edgelist['artist_b'] == 674)]\n",
    ")"
   ]
  },
  {
   "cell_type": "code",
   "execution_count": 145,
   "id": "96ee9b61",
   "metadata": {},
   "outputs": [],
   "source": [
    "sub = edgelist[edgelist['artist_a'] == 1]"
   ]
  },
  {
   "cell_type": "code",
   "execution_count": 147,
   "id": "9c4dabc4",
   "metadata": {},
   "outputs": [
    {
     "data": {
      "text/plain": [
       "array([   674,  12458,  24023,   1716,  17870,  49470,     89,     83,\n",
       "         8602, 107031,   1373,     77,   1656,   2889,  20080,  40039,\n",
       "         9169,   4594,  40038,   1068,  60320,  25820,   3361,  23215,\n",
       "         1509,   1552, 231513,     35,    328, 101269, 793362,  11069,\n",
       "        28902,    817,     31,    816,    675,   3592,    263,     59,\n",
       "          676,  25419,  20662,    174,  61020,    179,    957,   6365,\n",
       "         1661,     50,  22139])"
      ]
     },
     "execution_count": 147,
     "metadata": {},
     "output_type": "execute_result"
    }
   ],
   "source": [
    "sub['artist_b'].unique()"
   ]
  },
  {
   "cell_type": "code",
   "execution_count": 148,
   "id": "3c8638b2",
   "metadata": {},
   "outputs": [
    {
     "data": {
      "text/plain": [
       "array([      1,       3,       4, ..., 7766420, 7769622, 7770446])"
      ]
     },
     "execution_count": 148,
     "metadata": {},
     "output_type": "execute_result"
    }
   ],
   "source": [
    "all_artist_ids"
   ]
  },
  {
   "cell_type": "code",
   "execution_count": 153,
   "id": "75dce0d8",
   "metadata": {},
   "outputs": [
    {
     "data": {
      "text/plain": [
       "artist_a      1\n",
       "artist_b    674\n",
       "Name: 119474, dtype: int64"
      ]
     },
     "execution_count": 153,
     "metadata": {},
     "output_type": "execute_result"
    }
   ],
   "source": [
    "edgelist.iloc[0]"
   ]
  },
  {
   "cell_type": "code",
   "execution_count": 154,
   "id": "2f695a02",
   "metadata": {},
   "outputs": [],
   "source": [
    "el_sample = edgelist.sample(10)"
   ]
  },
  {
   "cell_type": "code",
   "execution_count": 157,
   "id": "7bd98ead",
   "metadata": {},
   "outputs": [],
   "source": [
    "def increment_weight(row) :\n",
    "    i = np.where(all_artist_ids == row['artist_a'])\n",
    "    j = np.where(all_artist_ids == row['artist_b'])\n",
    "    collab_matrix[i,j] += 1"
   ]
  },
  {
   "cell_type": "code",
   "execution_count": 159,
   "id": "93c6f0cb",
   "metadata": {},
   "outputs": [
    {
     "name": "stdout",
     "output_type": "stream",
     "text": [
      "Collecting swifter\n",
      "  Downloading swifter-1.3.4.tar.gz (830 kB)\n",
      "\u001b[2K     \u001b[38;2;114;156;31m━━━━━━━━━━━━━━━━━━━━━━━━━━━━━━━━━━━━━━\u001b[0m \u001b[32m830.9/830.9 kB\u001b[0m \u001b[31m14.2 MB/s\u001b[0m eta \u001b[36m0:00:00\u001b[0mm eta \u001b[36m0:00:01\u001b[0m\n",
      "\u001b[?25h  Preparing metadata (setup.py) ... \u001b[?25ldone\n",
      "\u001b[?25hRequirement already satisfied: pandas>=1.0.0 in /Users/rglass/opt/anaconda3/envs/colisten/lib/python3.9/site-packages (from swifter) (1.5.2)\n",
      "Requirement already satisfied: psutil>=5.6.6 in /Users/rglass/opt/anaconda3/envs/colisten/lib/python3.9/site-packages (from swifter) (5.9.0)\n",
      "Collecting dask[dataframe]>=2.10.0\n",
      "  Downloading dask-2022.12.1-py3-none-any.whl (1.1 MB)\n",
      "\u001b[2K     \u001b[38;2;114;156;31m━━━━━━━━━━━━━━━━━━━━━━━━━━━━━━━━━━━━━━━━\u001b[0m \u001b[32m1.1/1.1 MB\u001b[0m \u001b[31m17.8 MB/s\u001b[0m eta \u001b[36m0:00:00\u001b[0m31m30.5 MB/s\u001b[0m eta \u001b[36m0:00:01\u001b[0m\n",
      "\u001b[?25hCollecting tqdm>=4.33.0\n",
      "  Downloading tqdm-4.64.1-py2.py3-none-any.whl (78 kB)\n",
      "\u001b[2K     \u001b[38;2;114;156;31m━━━━━━━━━━━━━━━━━━━━━━━━━━━━━━━━━━━━━━━━\u001b[0m \u001b[32m78.5/78.5 kB\u001b[0m \u001b[31m3.1 MB/s\u001b[0m eta \u001b[36m0:00:00\u001b[0m\n",
      "\u001b[?25hRequirement already satisfied: ipywidgets>=7.0.0 in /Users/rglass/opt/anaconda3/envs/colisten/lib/python3.9/site-packages (from swifter) (7.6.5)\n",
      "Collecting cloudpickle>=0.2.2\n",
      "  Using cached cloudpickle-2.2.0-py3-none-any.whl (25 kB)\n",
      "Requirement already satisfied: parso>0.4.0 in /Users/rglass/opt/anaconda3/envs/colisten/lib/python3.9/site-packages (from swifter) (0.8.3)\n",
      "Requirement already satisfied: bleach>=3.1.1 in /Users/rglass/opt/anaconda3/envs/colisten/lib/python3.9/site-packages (from swifter) (4.1.0)\n",
      "Requirement already satisfied: packaging in /Users/rglass/opt/anaconda3/envs/colisten/lib/python3.9/site-packages (from bleach>=3.1.1->swifter) (22.0)\n",
      "Requirement already satisfied: webencodings in /Users/rglass/opt/anaconda3/envs/colisten/lib/python3.9/site-packages (from bleach>=3.1.1->swifter) (0.5.1)\n",
      "Requirement already satisfied: six>=1.9.0 in /Users/rglass/opt/anaconda3/envs/colisten/lib/python3.9/site-packages (from bleach>=3.1.1->swifter) (1.16.0)\n",
      "Collecting fsspec>=0.6.0\n",
      "  Downloading fsspec-2022.11.0-py3-none-any.whl (139 kB)\n",
      "\u001b[2K     \u001b[38;2;114;156;31m━━━━━━━━━━━━━━━━━━━━━━━━━━━━━━━━━━━━━━━\u001b[0m \u001b[32m139.5/139.5 kB\u001b[0m \u001b[31m5.7 MB/s\u001b[0m eta \u001b[36m0:00:00\u001b[0m\n",
      "\u001b[?25hCollecting click>=7.0\n",
      "  Using cached click-8.1.3-py3-none-any.whl (96 kB)\n",
      "Collecting partd>=0.3.10\n",
      "  Using cached partd-1.3.0-py3-none-any.whl (18 kB)\n",
      "Collecting toolz>=0.8.2\n",
      "  Using cached toolz-0.12.0-py3-none-any.whl (55 kB)\n",
      "Collecting pyyaml>=5.3.1\n",
      "  Downloading PyYAML-6.0-cp39-cp39-macosx_10_9_x86_64.whl (197 kB)\n",
      "\u001b[2K     \u001b[38;2;114;156;31m━━━━━━━━━━━━━━━━━━━━━━━━━━━━━━━━━━━━━━━\u001b[0m \u001b[32m197.6/197.6 kB\u001b[0m \u001b[31m5.8 MB/s\u001b[0m eta \u001b[36m0:00:00\u001b[0m\n",
      "\u001b[?25hRequirement already satisfied: numpy>=1.18 in /Users/rglass/opt/anaconda3/envs/colisten/lib/python3.9/site-packages (from dask[dataframe]>=2.10.0->swifter) (1.23.4)\n",
      "Requirement already satisfied: ipython>=4.0.0 in /Users/rglass/opt/anaconda3/envs/colisten/lib/python3.9/site-packages (from ipywidgets>=7.0.0->swifter) (8.7.0)\n",
      "Requirement already satisfied: ipykernel>=4.5.1 in /Users/rglass/opt/anaconda3/envs/colisten/lib/python3.9/site-packages (from ipywidgets>=7.0.0->swifter) (6.15.2)\n",
      "Requirement already satisfied: traitlets>=4.3.1 in /Users/rglass/opt/anaconda3/envs/colisten/lib/python3.9/site-packages (from ipywidgets>=7.0.0->swifter) (5.7.1)\n",
      "Requirement already satisfied: jupyterlab-widgets>=1.0.0 in /Users/rglass/opt/anaconda3/envs/colisten/lib/python3.9/site-packages (from ipywidgets>=7.0.0->swifter) (1.0.0)\n",
      "Requirement already satisfied: ipython-genutils~=0.2.0 in /Users/rglass/opt/anaconda3/envs/colisten/lib/python3.9/site-packages (from ipywidgets>=7.0.0->swifter) (0.2.0)\n",
      "Requirement already satisfied: nbformat>=4.2.0 in /Users/rglass/opt/anaconda3/envs/colisten/lib/python3.9/site-packages (from ipywidgets>=7.0.0->swifter) (5.7.0)\n",
      "Requirement already satisfied: widgetsnbextension~=3.5.0 in /Users/rglass/opt/anaconda3/envs/colisten/lib/python3.9/site-packages (from ipywidgets>=7.0.0->swifter) (3.5.2)\n",
      "Requirement already satisfied: python-dateutil>=2.8.1 in /Users/rglass/opt/anaconda3/envs/colisten/lib/python3.9/site-packages (from pandas>=1.0.0->swifter) (2.8.2)\n",
      "Requirement already satisfied: pytz>=2020.1 in /Users/rglass/opt/anaconda3/envs/colisten/lib/python3.9/site-packages (from pandas>=1.0.0->swifter) (2022.7)\n",
      "Requirement already satisfied: tornado>=6.1 in /Users/rglass/opt/anaconda3/envs/colisten/lib/python3.9/site-packages (from ipykernel>=4.5.1->ipywidgets>=7.0.0->swifter) (6.2)\n",
      "Requirement already satisfied: pyzmq>=17 in /Users/rglass/opt/anaconda3/envs/colisten/lib/python3.9/site-packages (from ipykernel>=4.5.1->ipywidgets>=7.0.0->swifter) (23.2.0)\n",
      "Requirement already satisfied: nest-asyncio in /Users/rglass/opt/anaconda3/envs/colisten/lib/python3.9/site-packages (from ipykernel>=4.5.1->ipywidgets>=7.0.0->swifter) (1.5.5)\n",
      "Requirement already satisfied: appnope in /Users/rglass/opt/anaconda3/envs/colisten/lib/python3.9/site-packages (from ipykernel>=4.5.1->ipywidgets>=7.0.0->swifter) (0.1.2)\n",
      "Requirement already satisfied: matplotlib-inline>=0.1 in /Users/rglass/opt/anaconda3/envs/colisten/lib/python3.9/site-packages (from ipykernel>=4.5.1->ipywidgets>=7.0.0->swifter) (0.1.6)\n",
      "Requirement already satisfied: jupyter-client>=6.1.12 in /Users/rglass/opt/anaconda3/envs/colisten/lib/python3.9/site-packages (from ipykernel>=4.5.1->ipywidgets>=7.0.0->swifter) (7.4.8)\n",
      "Requirement already satisfied: debugpy>=1.0 in /Users/rglass/opt/anaconda3/envs/colisten/lib/python3.9/site-packages (from ipykernel>=4.5.1->ipywidgets>=7.0.0->swifter) (1.5.1)\n",
      "Requirement already satisfied: pygments>=2.4.0 in /Users/rglass/opt/anaconda3/envs/colisten/lib/python3.9/site-packages (from ipython>=4.0.0->ipywidgets>=7.0.0->swifter) (2.11.2)\n",
      "Requirement already satisfied: pexpect>4.3 in /Users/rglass/opt/anaconda3/envs/colisten/lib/python3.9/site-packages (from ipython>=4.0.0->ipywidgets>=7.0.0->swifter) (4.8.0)\n",
      "Requirement already satisfied: stack-data in /Users/rglass/opt/anaconda3/envs/colisten/lib/python3.9/site-packages (from ipython>=4.0.0->ipywidgets>=7.0.0->swifter) (0.2.0)\n",
      "Requirement already satisfied: decorator in /Users/rglass/opt/anaconda3/envs/colisten/lib/python3.9/site-packages (from ipython>=4.0.0->ipywidgets>=7.0.0->swifter) (5.1.1)\n",
      "Requirement already satisfied: backcall in /Users/rglass/opt/anaconda3/envs/colisten/lib/python3.9/site-packages (from ipython>=4.0.0->ipywidgets>=7.0.0->swifter) (0.2.0)\n",
      "Requirement already satisfied: jedi>=0.16 in /Users/rglass/opt/anaconda3/envs/colisten/lib/python3.9/site-packages (from ipython>=4.0.0->ipywidgets>=7.0.0->swifter) (0.18.1)\n",
      "Requirement already satisfied: pickleshare in /Users/rglass/opt/anaconda3/envs/colisten/lib/python3.9/site-packages (from ipython>=4.0.0->ipywidgets>=7.0.0->swifter) (0.7.5)\n",
      "Requirement already satisfied: prompt-toolkit<3.1.0,>=3.0.11 in /Users/rglass/opt/anaconda3/envs/colisten/lib/python3.9/site-packages (from ipython>=4.0.0->ipywidgets>=7.0.0->swifter) (3.0.20)\n",
      "Requirement already satisfied: jupyter-core in /Users/rglass/opt/anaconda3/envs/colisten/lib/python3.9/site-packages (from nbformat>=4.2.0->ipywidgets>=7.0.0->swifter) (4.11.2)\n",
      "Requirement already satisfied: fastjsonschema in /Users/rglass/opt/anaconda3/envs/colisten/lib/python3.9/site-packages (from nbformat>=4.2.0->ipywidgets>=7.0.0->swifter) (2.16.2)\n",
      "Requirement already satisfied: jsonschema>=2.6 in /Users/rglass/opt/anaconda3/envs/colisten/lib/python3.9/site-packages (from nbformat>=4.2.0->ipywidgets>=7.0.0->swifter) (4.16.0)\n",
      "Collecting locket\n",
      "  Using cached locket-1.0.0-py2.py3-none-any.whl (4.4 kB)\n",
      "Requirement already satisfied: notebook>=4.4.1 in /Users/rglass/opt/anaconda3/envs/colisten/lib/python3.9/site-packages (from widgetsnbextension~=3.5.0->ipywidgets>=7.0.0->swifter) (6.5.2)\n",
      "Requirement already satisfied: attrs>=17.4.0 in /Users/rglass/opt/anaconda3/envs/colisten/lib/python3.9/site-packages (from jsonschema>=2.6->nbformat>=4.2.0->ipywidgets>=7.0.0->swifter) (22.1.0)\n",
      "Requirement already satisfied: pyrsistent!=0.17.0,!=0.17.1,!=0.17.2,>=0.14.0 in /Users/rglass/opt/anaconda3/envs/colisten/lib/python3.9/site-packages (from jsonschema>=2.6->nbformat>=4.2.0->ipywidgets>=7.0.0->swifter) (0.18.0)\n",
      "Requirement already satisfied: entrypoints in /Users/rglass/opt/anaconda3/envs/colisten/lib/python3.9/site-packages (from jupyter-client>=6.1.12->ipykernel>=4.5.1->ipywidgets>=7.0.0->swifter) (0.4)\n",
      "Requirement already satisfied: argon2-cffi in /Users/rglass/opt/anaconda3/envs/colisten/lib/python3.9/site-packages (from notebook>=4.4.1->widgetsnbextension~=3.5.0->ipywidgets>=7.0.0->swifter) (21.3.0)\n",
      "Requirement already satisfied: jinja2 in /Users/rglass/opt/anaconda3/envs/colisten/lib/python3.9/site-packages (from notebook>=4.4.1->widgetsnbextension~=3.5.0->ipywidgets>=7.0.0->swifter) (3.1.2)\n",
      "Requirement already satisfied: Send2Trash>=1.8.0 in /Users/rglass/opt/anaconda3/envs/colisten/lib/python3.9/site-packages (from notebook>=4.4.1->widgetsnbextension~=3.5.0->ipywidgets>=7.0.0->swifter) (1.8.0)\n",
      "Requirement already satisfied: nbclassic>=0.4.7 in /Users/rglass/opt/anaconda3/envs/colisten/lib/python3.9/site-packages (from notebook>=4.4.1->widgetsnbextension~=3.5.0->ipywidgets>=7.0.0->swifter) (0.4.8)\n"
     ]
    },
    {
     "name": "stdout",
     "output_type": "stream",
     "text": [
      "Requirement already satisfied: prometheus-client in /Users/rglass/opt/anaconda3/envs/colisten/lib/python3.9/site-packages (from notebook>=4.4.1->widgetsnbextension~=3.5.0->ipywidgets>=7.0.0->swifter) (0.14.1)\n",
      "Requirement already satisfied: terminado>=0.8.3 in /Users/rglass/opt/anaconda3/envs/colisten/lib/python3.9/site-packages (from notebook>=4.4.1->widgetsnbextension~=3.5.0->ipywidgets>=7.0.0->swifter) (0.17.1)\n",
      "Requirement already satisfied: nbconvert>=5 in /Users/rglass/opt/anaconda3/envs/colisten/lib/python3.9/site-packages (from notebook>=4.4.1->widgetsnbextension~=3.5.0->ipywidgets>=7.0.0->swifter) (6.5.4)\n",
      "Requirement already satisfied: ptyprocess>=0.5 in /Users/rglass/opt/anaconda3/envs/colisten/lib/python3.9/site-packages (from pexpect>4.3->ipython>=4.0.0->ipywidgets>=7.0.0->swifter) (0.7.0)\n",
      "Requirement already satisfied: wcwidth in /Users/rglass/opt/anaconda3/envs/colisten/lib/python3.9/site-packages (from prompt-toolkit<3.1.0,>=3.0.11->ipython>=4.0.0->ipywidgets>=7.0.0->swifter) (0.2.5)\n",
      "Requirement already satisfied: executing in /Users/rglass/opt/anaconda3/envs/colisten/lib/python3.9/site-packages (from stack-data->ipython>=4.0.0->ipywidgets>=7.0.0->swifter) (0.8.3)\n",
      "Requirement already satisfied: pure-eval in /Users/rglass/opt/anaconda3/envs/colisten/lib/python3.9/site-packages (from stack-data->ipython>=4.0.0->ipywidgets>=7.0.0->swifter) (0.2.2)\n",
      "Requirement already satisfied: asttokens in /Users/rglass/opt/anaconda3/envs/colisten/lib/python3.9/site-packages (from stack-data->ipython>=4.0.0->ipywidgets>=7.0.0->swifter) (2.0.5)\n",
      "Requirement already satisfied: jupyter-server>=1.8 in /Users/rglass/opt/anaconda3/envs/colisten/lib/python3.9/site-packages (from nbclassic>=0.4.7->notebook>=4.4.1->widgetsnbextension~=3.5.0->ipywidgets>=7.0.0->swifter) (1.23.4)\n",
      "Requirement already satisfied: notebook-shim>=0.1.0 in /Users/rglass/opt/anaconda3/envs/colisten/lib/python3.9/site-packages (from nbclassic>=0.4.7->notebook>=4.4.1->widgetsnbextension~=3.5.0->ipywidgets>=7.0.0->swifter) (0.2.2)\n",
      "Requirement already satisfied: lxml in /Users/rglass/opt/anaconda3/envs/colisten/lib/python3.9/site-packages (from nbconvert>=5->notebook>=4.4.1->widgetsnbextension~=3.5.0->ipywidgets>=7.0.0->swifter) (4.9.1)\n",
      "Requirement already satisfied: nbclient>=0.5.0 in /Users/rglass/opt/anaconda3/envs/colisten/lib/python3.9/site-packages (from nbconvert>=5->notebook>=4.4.1->widgetsnbextension~=3.5.0->ipywidgets>=7.0.0->swifter) (0.5.13)\n",
      "Requirement already satisfied: beautifulsoup4 in /Users/rglass/opt/anaconda3/envs/colisten/lib/python3.9/site-packages (from nbconvert>=5->notebook>=4.4.1->widgetsnbextension~=3.5.0->ipywidgets>=7.0.0->swifter) (4.11.1)\n",
      "Requirement already satisfied: tinycss2 in /Users/rglass/opt/anaconda3/envs/colisten/lib/python3.9/site-packages (from nbconvert>=5->notebook>=4.4.1->widgetsnbextension~=3.5.0->ipywidgets>=7.0.0->swifter) (1.2.1)\n",
      "Requirement already satisfied: defusedxml in /Users/rglass/opt/anaconda3/envs/colisten/lib/python3.9/site-packages (from nbconvert>=5->notebook>=4.4.1->widgetsnbextension~=3.5.0->ipywidgets>=7.0.0->swifter) (0.7.1)\n",
      "Requirement already satisfied: jupyterlab-pygments in /Users/rglass/opt/anaconda3/envs/colisten/lib/python3.9/site-packages (from nbconvert>=5->notebook>=4.4.1->widgetsnbextension~=3.5.0->ipywidgets>=7.0.0->swifter) (0.1.2)\n",
      "Requirement already satisfied: pandocfilters>=1.4.1 in /Users/rglass/opt/anaconda3/envs/colisten/lib/python3.9/site-packages (from nbconvert>=5->notebook>=4.4.1->widgetsnbextension~=3.5.0->ipywidgets>=7.0.0->swifter) (1.5.0)\n",
      "Requirement already satisfied: MarkupSafe>=2.0 in /Users/rglass/opt/anaconda3/envs/colisten/lib/python3.9/site-packages (from nbconvert>=5->notebook>=4.4.1->widgetsnbextension~=3.5.0->ipywidgets>=7.0.0->swifter) (2.1.1)\n",
      "Requirement already satisfied: mistune<2,>=0.8.1 in /Users/rglass/opt/anaconda3/envs/colisten/lib/python3.9/site-packages (from nbconvert>=5->notebook>=4.4.1->widgetsnbextension~=3.5.0->ipywidgets>=7.0.0->swifter) (0.8.4)\n",
      "Requirement already satisfied: argon2-cffi-bindings in /Users/rglass/opt/anaconda3/envs/colisten/lib/python3.9/site-packages (from argon2-cffi->notebook>=4.4.1->widgetsnbextension~=3.5.0->ipywidgets>=7.0.0->swifter) (21.2.0)\n",
      "Requirement already satisfied: websocket-client in /Users/rglass/opt/anaconda3/envs/colisten/lib/python3.9/site-packages (from jupyter-server>=1.8->nbclassic>=0.4.7->notebook>=4.4.1->widgetsnbextension~=3.5.0->ipywidgets>=7.0.0->swifter) (0.58.0)\n",
      "Requirement already satisfied: anyio<4,>=3.1.0 in /Users/rglass/opt/anaconda3/envs/colisten/lib/python3.9/site-packages (from jupyter-server>=1.8->nbclassic>=0.4.7->notebook>=4.4.1->widgetsnbextension~=3.5.0->ipywidgets>=7.0.0->swifter) (3.5.0)\n",
      "Requirement already satisfied: cffi>=1.0.1 in /Users/rglass/opt/anaconda3/envs/colisten/lib/python3.9/site-packages (from argon2-cffi-bindings->argon2-cffi->notebook>=4.4.1->widgetsnbextension~=3.5.0->ipywidgets>=7.0.0->swifter) (1.15.1)\n",
      "Requirement already satisfied: soupsieve>1.2 in /Users/rglass/opt/anaconda3/envs/colisten/lib/python3.9/site-packages (from beautifulsoup4->nbconvert>=5->notebook>=4.4.1->widgetsnbextension~=3.5.0->ipywidgets>=7.0.0->swifter) (2.3.2.post1)\n",
      "Requirement already satisfied: idna>=2.8 in /Users/rglass/opt/anaconda3/envs/colisten/lib/python3.9/site-packages (from anyio<4,>=3.1.0->jupyter-server>=1.8->nbclassic>=0.4.7->notebook>=4.4.1->widgetsnbextension~=3.5.0->ipywidgets>=7.0.0->swifter) (3.4)\n",
      "Requirement already satisfied: sniffio>=1.1 in /Users/rglass/opt/anaconda3/envs/colisten/lib/python3.9/site-packages (from anyio<4,>=3.1.0->jupyter-server>=1.8->nbclassic>=0.4.7->notebook>=4.4.1->widgetsnbextension~=3.5.0->ipywidgets>=7.0.0->swifter) (1.2.0)\n",
      "Requirement already satisfied: pycparser in /Users/rglass/opt/anaconda3/envs/colisten/lib/python3.9/site-packages (from cffi>=1.0.1->argon2-cffi-bindings->argon2-cffi->notebook>=4.4.1->widgetsnbextension~=3.5.0->ipywidgets>=7.0.0->swifter) (2.21)\n",
      "Building wheels for collected packages: swifter\n",
      "  Building wheel for swifter (setup.py) ... \u001b[?25ldone\n",
      "\u001b[?25h  Created wheel for swifter: filename=swifter-1.3.4-py3-none-any.whl size=16300 sha256=83fbfe030e5875191153cdd3cdd67b9cd01754622d2ab1f4b288a225744dc13c\n",
      "  Stored in directory: /Users/rglass/Library/Caches/pip/wheels/40/ac/82/e6e08c451973c2764ee709b175a5b899866119bccf5206a65d\n",
      "Successfully built swifter\n",
      "Installing collected packages: tqdm, toolz, pyyaml, locket, fsspec, cloudpickle, click, partd, dask, swifter\n",
      "Successfully installed click-8.1.3 cloudpickle-2.2.0 dask-2022.12.1 fsspec-2022.11.0 locket-1.0.0 partd-1.3.0 pyyaml-6.0 swifter-1.3.4 toolz-0.12.0 tqdm-4.64.1\n"
     ]
    }
   ],
   "source": [
    "! pip install swifter"
   ]
  },
  {
   "cell_type": "code",
   "execution_count": 160,
   "id": "75c9ff7f",
   "metadata": {},
   "outputs": [],
   "source": [
    "import swifter"
   ]
  },
  {
   "cell_type": "code",
   "execution_count": 1,
   "id": "5d35d23c",
   "metadata": {},
   "outputs": [
    {
     "ename": "NameError",
     "evalue": "name 'edgelist' is not defined",
     "output_type": "error",
     "traceback": [
      "\u001b[0;31m---------------------------------------------------------------------------\u001b[0m",
      "\u001b[0;31mNameError\u001b[0m                                 Traceback (most recent call last)",
      "Cell \u001b[0;32mIn[1], line 1\u001b[0m\n\u001b[0;32m----> 1\u001b[0m \u001b[43medgelist\u001b[49m\u001b[38;5;241m.\u001b[39mswifter\u001b[38;5;241m.\u001b[39mapply(increment_weight, axis\u001b[38;5;241m=\u001b[39m\u001b[38;5;241m1\u001b[39m)\n",
      "\u001b[0;31mNameError\u001b[0m: name 'edgelist' is not defined"
     ]
    }
   ],
   "source": [
    "edgelist.swifter.apply(increment_weight, axis=1)"
   ]
  },
  {
   "cell_type": "code",
   "execution_count": null,
   "id": "68d7c6d3",
   "metadata": {},
   "outputs": [],
   "source": [
    "g = igraph.Graph.DataFrame(edgelist, )"
   ]
  },
  {
   "cell_type": "code",
   "execution_count": 124,
   "id": "0f3c7eb2",
   "metadata": {},
   "outputs": [],
   "source": [
    "g.es['weight'] = 1."
   ]
  },
  {
   "cell_type": "code",
   "execution_count": 125,
   "id": "f21bfe64",
   "metadata": {},
   "outputs": [
    {
     "data": {
      "text/plain": [
       "True"
      ]
     },
     "execution_count": 125,
     "metadata": {},
     "output_type": "execute_result"
    }
   ],
   "source": [
    "g.is_weighted()"
   ]
  },
  {
   "cell_type": "code",
   "execution_count": 126,
   "id": "72df9648",
   "metadata": {},
   "outputs": [
    {
     "data": {
      "text/plain": [
       "1.0"
      ]
     },
     "execution_count": 126,
     "metadata": {},
     "output_type": "execute_result"
    }
   ],
   "source": [
    "g[1, 674]"
   ]
  },
  {
   "cell_type": "code",
   "execution_count": 127,
   "id": "5b5ef87b",
   "metadata": {},
   "outputs": [],
   "source": [
    "g = igraph.Graph()"
   ]
  },
  {
   "cell_type": "code",
   "execution_count": 136,
   "id": "4a378c7d",
   "metadata": {},
   "outputs": [],
   "source": [
    "g.es['weight'] = 1."
   ]
  },
  {
   "cell_type": "code",
   "execution_count": 137,
   "id": "be69e64a",
   "metadata": {},
   "outputs": [
    {
     "data": {
      "text/plain": [
       "True"
      ]
     },
     "execution_count": 137,
     "metadata": {},
     "output_type": "execute_result"
    }
   ],
   "source": [
    "g.is_weighted()"
   ]
  }
 ],
 "metadata": {
  "kernelspec": {
   "display_name": "Python 3 (ipykernel)",
   "language": "python",
   "name": "python3"
  },
  "language_info": {
   "codemirror_mode": {
    "name": "ipython",
    "version": 3
   },
   "file_extension": ".py",
   "mimetype": "text/x-python",
   "name": "python",
   "nbconvert_exporter": "python",
   "pygments_lexer": "ipython3",
   "version": "3.9.15"
  }
 },
 "nbformat": 4,
 "nbformat_minor": 5
}
